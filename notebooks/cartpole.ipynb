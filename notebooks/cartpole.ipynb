{
 "cells": [
  {
   "cell_type": "code",
   "execution_count": 3,
   "metadata": {
    "pycharm": {
     "is_executing": false,
     "name": "#%%\n"
    }
   },
   "outputs": [
    {
     "traceback": [
      "\u001b[0;31m---------------------------------------------------------------------------\u001b[0m",
      "\u001b[0;31mNameError\u001b[0m                                 Traceback (most recent call last)",
      "\u001b[0;32m<ipython-input-2-fa27685998be>\u001b[0m in \u001b[0;36m<module>\u001b[0;34m\u001b[0m\n\u001b[1;32m      1\u001b[0m \u001b[0;32mfrom\u001b[0m \u001b[0mIPython\u001b[0m \u001b[0;32mimport\u001b[0m \u001b[0mdisplay\u001b[0m\u001b[0;34m\u001b[0m\u001b[0;34m\u001b[0m\u001b[0m\n\u001b[1;32m      2\u001b[0m \u001b[0mepochs\u001b[0m \u001b[0;34m=\u001b[0m \u001b[0;36m100\u001b[0m\u001b[0;34m\u001b[0m\u001b[0;34m\u001b[0m\u001b[0m\n\u001b[0;32m----> 3\u001b[0;31m \u001b[0mwriter\u001b[0m \u001b[0;34m=\u001b[0m \u001b[0mtf\u001b[0m\u001b[0;34m.\u001b[0m\u001b[0msummary\u001b[0m\u001b[0;34m.\u001b[0m\u001b[0mcreate_file_writer\u001b[0m\u001b[0;34m(\u001b[0m\u001b[0moutput_dir\u001b[0m\u001b[0;34m)\u001b[0m\u001b[0;34m\u001b[0m\u001b[0;34m\u001b[0m\u001b[0m\n\u001b[0m\u001b[1;32m      4\u001b[0m \u001b[0mwriter\u001b[0m\u001b[0;34m.\u001b[0m\u001b[0mset_as_default\u001b[0m\u001b[0;34m(\u001b[0m\u001b[0;34m)\u001b[0m\u001b[0;34m\u001b[0m\u001b[0;34m\u001b[0m\u001b[0m\n\u001b[1;32m      5\u001b[0m \u001b[0;32mfor\u001b[0m \u001b[0mepoch\u001b[0m \u001b[0;32min\u001b[0m \u001b[0mrange\u001b[0m\u001b[0;34m(\u001b[0m\u001b[0;36m1\u001b[0m\u001b[0;34m,\u001b[0m \u001b[0mepochs\u001b[0m \u001b[0;34m+\u001b[0m \u001b[0;36m1\u001b[0m\u001b[0;34m)\u001b[0m\u001b[0;34m:\u001b[0m\u001b[0;34m\u001b[0m\u001b[0;34m\u001b[0m\u001b[0m\n",
      "\u001b[0;31mNameError\u001b[0m: name 'tf' is not defined"
     ],
     "ename": "NameError",
     "evalue": "name 'tf' is not defined",
     "output_type": "error"
    }
   ],
   "source": [
    "%load_ext autoreload\n",
    "%autoreload 2\n",
    "%tb"
   ]
  },
  {
   "cell_type": "code",
   "execution_count": 4,
   "outputs": [
    {
     "name": "stdout",
     "text": [
      "PhysicalDevice(name='/physical_device:GPU:0', device_type='GPU')\n"
     ],
     "output_type": "stream"
    }
   ],
   "source": [
    "import pickle\n",
    "import time\n",
    "\n",
    "import gym\n",
    "import numpy as np\n",
    "import tensorflow as tf\n",
    "from tensorflow.keras.layers import Dense, InputLayer\n",
    "from tf2rl.algos.sac_discrete import SACDiscrete\n",
    "\n",
    "from CustomTrainer import Trainer\n",
    "from VariationalAutoEncoder import VAE"
   ],
   "metadata": {
    "collapsed": false,
    "pycharm": {
     "name": "#%%\n",
     "is_executing": false
    }
   }
  },
  {
   "cell_type": "code",
   "execution_count": 90,
   "outputs": [],
   "source": [
    "parser = Trainer.get_argument()\n",
    "parser.add_argument(\"-f\")\n",
    "parser = SACDiscrete.get_argument(parser)\n",
    "parser.set_defaults(test_interval=2000)\n",
    "parser.set_defaults(max_steps=6000)\n",
    "parser.set_defaults(gpu=-1)\n",
    "parser.set_defaults(n_warmup=500)\n",
    "parser.set_defaults(batch_size=32)\n",
    "parser.set_defaults(memory_capacity=int(6000))\n",
    "parser.set_defaults(test_episodes=int(25))\n",
    "args = parser.parse_args()\n",
    "\n",
    "env = gym.make(\"CartPole-v0\")\n",
    "test_env = gym.make(\"CartPole-v0\")\n",
    "policy = SACDiscrete(\n",
    "    state_shape=env.observation_space.shape,\n",
    "    action_dim=env.action_space.n,\n",
    "    discount=0.99,\n",
    "    gpu=args.gpu,\n",
    "    memory_capacity=args.memory_capacity,\n",
    "    batch_size=args.batch_size,\n",
    "    n_warmup=args.n_warmup)\n",
    "trainer = Trainer(policy, env, args, test_env=test_env)\n",
    "\n",
    "output_dir = trainer._output_dir"
   ],
   "metadata": {
    "collapsed": false,
    "pycharm": {
     "name": "#%%\n",
     "is_executing": false
    }
   }
  },
  {
   "cell_type": "code",
   "execution_count": 6,
   "outputs": [],
   "source": [
    "#uncomment to get initial dataset\n",
    "\n",
    "# trainer()\n",
    "# pickle.dump(trainer.replay_buffer, open(\"./CARTPOLE_SAC_6000_RB2.pkl\", \"wb\"))"
   ],
   "metadata": {
    "collapsed": false,
    "pycharm": {
     "name": "#%%\n",
     "is_executing": false
    }
   }
  },
  {
   "cell_type": "code",
   "execution_count": 2,
   "metadata": {
    "pycharm": {
     "name": "#%%\n",
     "is_executing": false
    }
   },
   "outputs": [],
   "source": []
  },
  {
   "cell_type": "code",
   "execution_count": 7,
   "outputs": [
    {
     "traceback": [
      "\u001b[0;31m---------------------------------------------------------------------------\u001b[0m",
      "\u001b[0;31mAttributeError\u001b[0m                            Traceback (most recent call last)",
      "\u001b[0;32m<ipython-input-7-598949f29fe0>\u001b[0m in \u001b[0;36m<module>\u001b[0;34m\u001b[0m\n\u001b[0;32m----> 1\u001b[0;31m \u001b[0mpickle\u001b[0m\u001b[0;34m.\u001b[0m\u001b[0mdump\u001b[0m\u001b[0;34m(\u001b[0m\u001b[0mtrainer\u001b[0m\u001b[0;34m.\u001b[0m\u001b[0mreplay_buffer\u001b[0m\u001b[0;34m,\u001b[0m \u001b[0mopen\u001b[0m\u001b[0;34m(\u001b[0m\u001b[0;34m\"./CARTPOLE_SAC_6000_RB2.pkl\"\u001b[0m\u001b[0;34m,\u001b[0m \u001b[0;34m\"wb\"\u001b[0m\u001b[0;34m)\u001b[0m\u001b[0;34m)\u001b[0m\u001b[0;34m\u001b[0m\u001b[0;34m\u001b[0m\u001b[0m\n\u001b[0m\u001b[1;32m      2\u001b[0m \u001b[0;34m\u001b[0m\u001b[0m\n",
      "\u001b[0;31mAttributeError\u001b[0m: 'Trainer' object has no attribute 'replay_buffer'"
     ],
     "ename": "AttributeError",
     "evalue": "'Trainer' object has no attribute 'replay_buffer'",
     "output_type": "error"
    }
   ],
   "source": [],
   "metadata": {
    "collapsed": false,
    "pycharm": {
     "name": "#%%\n",
     "is_executing": false
    }
   }
  },
  {
   "cell_type": "code",
   "execution_count": 13,
   "outputs": [],
   "source": [
    "def load_dataset(path):\n",
    "    replay_buffer = pickle.load(open(path, \"rb\"))\n",
    "    test = replay_buffer.transform(replay_buffer.storage)\n",
    "    trb = test\n",
    "    trb = np.concatenate((trb[\"obs\"], trb[\"act\"], trb[\"next_obs\"], trb[\"rew\"], trb[\"done\"]), axis=1)\n",
    "    ds = tf.data.Dataset.from_tensor_slices(trb).shuffle(trb.shape[0]).batch(32)\n",
    "    return ds,trb, replay_buffer"
   ],
   "metadata": {
    "collapsed": false,
    "pycharm": {
     "name": "#%%\n",
     "is_executing": false
    }
   }
  },
  {
   "cell_type": "code",
   "execution_count": 14,
   "outputs": [],
   "source": [
    "train_dataset, train_ori, replay_buffer = load_dataset(\"./CARTPOLE_SAC_6000_RB.pkl\")\n",
    "test_dataset, test_ori, _ = load_dataset(\"./CARTPOLE_SAC_6000_RB2.pkl\")"
   ],
   "metadata": {
    "collapsed": false,
    "pycharm": {
     "name": "#%%\n",
     "is_executing": false
    }
   }
  },
  {
   "cell_type": "code",
   "execution_count": 15,
   "outputs": [],
   "source": [
    "ds_shape = train_dataset.element_spec.shape"
   ],
   "metadata": {
    "collapsed": false,
    "pycharm": {
     "name": "#%%\n",
     "is_executing": false
    }
   }
  },
  {
   "cell_type": "code",
   "execution_count": 72,
   "outputs": [],
   "source": [
    "\n",
    "latent_dim = 3\n",
    "kl_importance = 0.01\n",
    "\n",
    "encoder_layers = [64, 64, 128, 256]\n",
    "decoder_layers = encoder_layers[::-1]"
   ],
   "metadata": {
    "collapsed": false,
    "pycharm": {
     "name": "#%%\n",
     "is_executing": false
    }
   }
  },
  {
   "cell_type": "code",
   "execution_count": 73,
   "outputs": [],
   "source": [
    "encoder = tf.keras.Sequential([\n",
    "    InputLayer(input_shape=ds_shape[1:]),\n",
    "    *[Dense(x) for x in encoder_layers],\n",
    "    Dense(2*latent_dim),\n",
    "])"
   ],
   "metadata": {
    "collapsed": false,
    "pycharm": {
     "name": "#%%\n",
     "is_executing": false
    }
   }
  },
  {
   "cell_type": "code",
   "execution_count": 74,
   "outputs": [],
   "source": [
    "decoder = tf.keras.Sequential([\n",
    "    InputLayer(input_shape=(latent_dim,)),\n",
    "    *[Dense(x) for x in decoder_layers],\n",
    "    Dense(ds_shape[-1])\n",
    "])"
   ],
   "metadata": {
    "collapsed": false,
    "pycharm": {
     "name": "#%%\n",
     "is_executing": false
    }
   }
  },
  {
   "cell_type": "code",
   "execution_count": 75,
   "outputs": [],
   "source": [
    "vae = VAE(latent_dim, lambda *args: encoder, lambda *args: decoder, kl_importance=kl_importance)"
   ],
   "metadata": {
    "collapsed": false,
    "pycharm": {
     "name": "#%%\n",
     "is_executing": false
    }
   }
  },
  {
   "cell_type": "code",
   "execution_count": 76,
   "outputs": [
    {
     "name": "stdout",
     "text": [
      "Epoch: 100, Test set ELBO: -0.15323780477046967, time elapse for current epoch 0.392916202545166\n"
     ],
     "output_type": "stream"
    }
   ],
   "source": [
    "from IPython import display\n",
    "epochs = 100\n",
    "writer = tf.summary.create_file_writer(f\"{output_dir} {latent_dim} {kl_importance}\")\n",
    "writer.set_as_default()\n",
    "for epoch in range(1, epochs + 1):\n",
    "  start_time = time.time()\n",
    "  for train_x in train_dataset:\n",
    "    vae.compute_apply_gradients(train_x)\n",
    "  end_time = time.time()\n",
    "  tf.summary.scalar(\"VAE/train/r_loss\", vae.r_loss.result(), step=epoch)\n",
    "  tf.summary.scalar(\"VAE/train/kl_loss\", vae.kl_loss.result(), step=epoch)\n",
    "  tf.summary.scalar(\"VAE/train/total_loss\", vae.total_loss.result(), step=epoch)\n",
    "  vae.reset_metrics()\n",
    "\n",
    "  if epoch % 1 == 0:\n",
    "    loss = tf.keras.metrics.Mean(\"validation_loss\")    \n",
    "    for test_x in test_dataset:\n",
    "        loss(vae.compute_loss(test_x))\n",
    "    tf.summary.scalar(\"VAE/test/r_loss\", vae.r_loss.result(), step=epoch)\n",
    "    tf.summary.scalar(\"VAE/test/kl_loss\", vae.kl_loss.result(), step=epoch)\n",
    "    tf.summary.scalar(\"VAE/test/total_loss\", vae.total_loss.result(), step=epoch)\n",
    "    elbo = -loss.result()\n",
    "    display.clear_output(wait=False)\n",
    "    print('Epoch: {}, Test set ELBO: {}, '\n",
    "          'time elapse for current epoch {}'.format(epoch,\n",
    "                                                    elbo,\n",
    "                                                    end_time - start_time))\n",
    "    vae.reset_metrics()\n",
    "    "
   ],
   "metadata": {
    "collapsed": false,
    "pycharm": {
     "name": "#%%\n",
     "is_executing": false
    }
   }
  },
  {
   "cell_type": "code",
   "execution_count": 82,
   "outputs": [],
   "source": [
    "def get_next_state(state, action, env):\n",
    "    env.reset()    \n",
    "    env.state = state\n",
    "    ns, reward, done, _ = env.step(action)\n",
    "    return ns, reward, done\n",
    "\n",
    "def m2e(a,b):\n",
    "    return ((a-b)**2).mean(axis=0)\n",
    "\n",
    "\n",
    "def parse_output_vae(o_vae):\n",
    "    o_vae = o_vae.numpy()\n",
    "    state = o_vae[:,0:4]\n",
    "    action = np.round(np.clip(o_vae[:,4],0,1)).astype(\"int32\").reshape((-1, 1))\n",
    "    next_obs = o_vae[:,5:9]\n",
    "    rew = o_vae[:,9].reshape((-1, 1))\n",
    "    done = np.round(np.clip(o_vae[:,10], 0, 1)).astype(\"int32\").reshape((-1, 1))\n",
    "    return {\"obs\":state, \"act\":action, \"next_obs\": next_obs, \"rew\": rew, \"done\":done}"
   ],
   "metadata": {
    "collapsed": false,
    "pycharm": {
     "name": "#%%\n",
     "is_executing": false
    }
   }
  },
  {
   "cell_type": "code",
   "execution_count": 83,
   "outputs": [],
   "source": [
    "def validate_correctness(ds, env):    \n",
    "    mean, logvar = vae.encode(ds)\n",
    "    eps = vae.reparameterize(mean, logvar)\n",
    "    decoded = vae.decode(eps)  \n",
    "    \n",
    "    state, action, next_obs, rew, done = parse_output_vae(decoded).values() \n",
    "    \n",
    "    n = len(state)\n",
    "    obs_err = 0\n",
    "    rew_err = 0\n",
    "    done_err = 0\n",
    "    \n",
    "    for i in range(n):\n",
    "        cns, crew, cdone = get_next_state(state[i], action[i][0], env)   \n",
    "    \n",
    "        obs_err += m2e(cns, next_obs)\n",
    "        rew_err += m2e(rew, crew)\n",
    "        done_err += m2e(done, cdone)\n",
    "    \n",
    "    return obs_err/n, rew_err/n, done_err/n\n",
    "\n"
   ],
   "metadata": {
    "collapsed": false,
    "pycharm": {
     "name": "#%%\n",
     "is_executing": false
    }
   }
  },
  {
   "cell_type": "code",
   "execution_count": 84,
   "outputs": [
    {
     "data": {
      "text/plain": "(array([0.11263909, 0.33045487, 0.00410763, 0.40680213]),\n array([1.7419483e-05], dtype=float32),\n array([0.]))"
     },
     "metadata": {},
     "output_type": "execute_result",
     "execution_count": 84
    }
   ],
   "source": [
    "validate_correctness(test_ori, env)"
   ],
   "metadata": {
    "collapsed": false,
    "pycharm": {
     "name": "#%%\n",
     "is_executing": false
    }
   }
  },
  {
   "cell_type": "code",
   "execution_count": 85,
   "outputs": [],
   "source": [
    "replaytrainer = Trainer(policy, env, args, test_env=test_env, \\\n",
    "                        custom_replay_buffer=replay_buffer, retrieve_new_exp=False)"
   ],
   "metadata": {
    "collapsed": false,
    "pycharm": {
     "name": "#%%\n",
     "is_executing": false
    }
   }
  },
  {
   "cell_type": "code",
   "execution_count": 86,
   "outputs": [
    {
     "name": "stderr",
     "text": [
      "00:31:35.862 [INFO] (CustomTrainer.py:146) Evaluation Total Steps:    2000 Average Reward  82.7600 over  25 episodes\n"
     ],
     "output_type": "stream"
    },
    {
     "traceback": [
      "\u001b[0;31m---------------------------------------------------------------------------\u001b[0m",
      "\u001b[0;31mKeyboardInterrupt\u001b[0m                         Traceback (most recent call last)",
      "\u001b[0;32m<ipython-input-86-77a4f3baa1e6>\u001b[0m in \u001b[0;36m<module>\u001b[0;34m\u001b[0m\n\u001b[0;32m----> 1\u001b[0;31m \u001b[0mreplaytrainer\u001b[0m\u001b[0;34m(\u001b[0m\u001b[0;34m)\u001b[0m\u001b[0;34m\u001b[0m\u001b[0;34m\u001b[0m\u001b[0m\n\u001b[0m\u001b[1;32m      2\u001b[0m \u001b[0;34m\u001b[0m\u001b[0m\n\u001b[1;32m      3\u001b[0m \u001b[0;34m\u001b[0m\u001b[0m\n\u001b[1;32m      4\u001b[0m \u001b[0;34m\u001b[0m\u001b[0m\n",
      "\u001b[0;32m~/PycharmProjects/seminar/CustomTrainer.py\u001b[0m in \u001b[0;36m__call__\u001b[0;34m(self)\u001b[0m\n\u001b[1;32m    133\u001b[0m                         \u001b[0msamples\u001b[0m\u001b[0;34m[\u001b[0m\u001b[0;34m\"obs\"\u001b[0m\u001b[0;34m]\u001b[0m\u001b[0;34m,\u001b[0m \u001b[0msamples\u001b[0m\u001b[0;34m[\u001b[0m\u001b[0;34m\"act\"\u001b[0m\u001b[0;34m]\u001b[0m\u001b[0;34m,\u001b[0m \u001b[0msamples\u001b[0m\u001b[0;34m[\u001b[0m\u001b[0;34m\"next_obs\"\u001b[0m\u001b[0;34m]\u001b[0m\u001b[0;34m,\u001b[0m\u001b[0;34m\u001b[0m\u001b[0;34m\u001b[0m\u001b[0m\n\u001b[1;32m    134\u001b[0m                         \u001b[0msamples\u001b[0m\u001b[0;34m[\u001b[0m\u001b[0;34m\"rew\"\u001b[0m\u001b[0;34m]\u001b[0m\u001b[0;34m,\u001b[0m \u001b[0mnp\u001b[0m\u001b[0;34m.\u001b[0m\u001b[0marray\u001b[0m\u001b[0;34m(\u001b[0m\u001b[0msamples\u001b[0m\u001b[0;34m[\u001b[0m\u001b[0;34m\"done\"\u001b[0m\u001b[0;34m]\u001b[0m\u001b[0;34m,\u001b[0m \u001b[0mdtype\u001b[0m\u001b[0;34m=\u001b[0m\u001b[0mnp\u001b[0m\u001b[0;34m.\u001b[0m\u001b[0mfloat32\u001b[0m\u001b[0;34m)\u001b[0m\u001b[0;34m,\u001b[0m\u001b[0;34m\u001b[0m\u001b[0;34m\u001b[0m\u001b[0m\n\u001b[0;32m--> 135\u001b[0;31m                         None if not self._use_prioritized_rb else samples[\"weights\"])\n\u001b[0m\u001b[1;32m    136\u001b[0m                 \u001b[0;32mif\u001b[0m \u001b[0mself\u001b[0m\u001b[0;34m.\u001b[0m\u001b[0m_use_prioritized_rb\u001b[0m\u001b[0;34m:\u001b[0m\u001b[0;34m\u001b[0m\u001b[0;34m\u001b[0m\u001b[0m\n\u001b[1;32m    137\u001b[0m                     td_error = self._policy.compute_td_error(\n",
      "\u001b[0;32m~/anaconda3/envs/seminar/lib/python3.7/site-packages/tf2rl/algos/sac_discrete.py\u001b[0m in \u001b[0;36mtrain\u001b[0;34m(self, states, actions, next_states, rewards, dones, weights)\u001b[0m\n\u001b[1;32m     90\u001b[0m                              rewards, dones, weights)\n\u001b[1;32m     91\u001b[0m \u001b[0;34m\u001b[0m\u001b[0m\n\u001b[0;32m---> 92\u001b[0;31m         \u001b[0mtf\u001b[0m\u001b[0;34m.\u001b[0m\u001b[0msummary\u001b[0m\u001b[0;34m.\u001b[0m\u001b[0mscalar\u001b[0m\u001b[0;34m(\u001b[0m\u001b[0mname\u001b[0m\u001b[0;34m=\u001b[0m\u001b[0mself\u001b[0m\u001b[0;34m.\u001b[0m\u001b[0mpolicy_name\u001b[0m \u001b[0;34m+\u001b[0m \u001b[0;34m\"/actor_loss\"\u001b[0m\u001b[0;34m,\u001b[0m \u001b[0mdata\u001b[0m\u001b[0;34m=\u001b[0m\u001b[0mactor_loss\u001b[0m\u001b[0;34m)\u001b[0m\u001b[0;34m\u001b[0m\u001b[0;34m\u001b[0m\u001b[0m\n\u001b[0m\u001b[1;32m     93\u001b[0m         \u001b[0mtf\u001b[0m\u001b[0;34m.\u001b[0m\u001b[0msummary\u001b[0m\u001b[0;34m.\u001b[0m\u001b[0mscalar\u001b[0m\u001b[0;34m(\u001b[0m\u001b[0mname\u001b[0m\u001b[0;34m=\u001b[0m\u001b[0mself\u001b[0m\u001b[0;34m.\u001b[0m\u001b[0mpolicy_name\u001b[0m \u001b[0;34m+\u001b[0m \u001b[0;34m\"/critic_loss\"\u001b[0m\u001b[0;34m,\u001b[0m \u001b[0mdata\u001b[0m\u001b[0;34m=\u001b[0m\u001b[0mtd_errors\u001b[0m\u001b[0;34m)\u001b[0m\u001b[0;34m\u001b[0m\u001b[0;34m\u001b[0m\u001b[0m\n\u001b[1;32m     94\u001b[0m         \u001b[0mtf\u001b[0m\u001b[0;34m.\u001b[0m\u001b[0msummary\u001b[0m\u001b[0;34m.\u001b[0m\u001b[0mscalar\u001b[0m\u001b[0;34m(\u001b[0m\u001b[0mname\u001b[0m\u001b[0;34m=\u001b[0m\u001b[0mself\u001b[0m\u001b[0;34m.\u001b[0m\u001b[0mpolicy_name\u001b[0m \u001b[0;34m+\u001b[0m \u001b[0;34m\"/mean_ent\"\u001b[0m\u001b[0;34m,\u001b[0m \u001b[0mdata\u001b[0m\u001b[0;34m=\u001b[0m\u001b[0mmean_ent\u001b[0m\u001b[0;34m)\u001b[0m\u001b[0;34m\u001b[0m\u001b[0;34m\u001b[0m\u001b[0m\n",
      "\u001b[0;32m~/anaconda3/envs/seminar/lib/python3.7/site-packages/tensorboard/plugins/scalar/summary_v2.py\u001b[0m in \u001b[0;36mscalar\u001b[0;34m(name, data, step, description)\u001b[0m\n\u001b[1;32m     55\u001b[0m   \u001b[0;31m# TODO(https://github.com/tensorflow/tensorboard/issues/2109): remove fallback\u001b[0m\u001b[0;34m\u001b[0m\u001b[0;34m\u001b[0m\u001b[0;34m\u001b[0m\u001b[0m\n\u001b[1;32m     56\u001b[0m   summary_scope = (\n\u001b[0;32m---> 57\u001b[0;31m       \u001b[0mgetattr\u001b[0m\u001b[0;34m(\u001b[0m\u001b[0mtf\u001b[0m\u001b[0;34m.\u001b[0m\u001b[0msummary\u001b[0m\u001b[0;34m.\u001b[0m\u001b[0mexperimental\u001b[0m\u001b[0;34m,\u001b[0m \u001b[0;34m'summary_scope'\u001b[0m\u001b[0;34m,\u001b[0m \u001b[0;32mNone\u001b[0m\u001b[0;34m)\u001b[0m \u001b[0;32mor\u001b[0m\u001b[0;34m\u001b[0m\u001b[0;34m\u001b[0m\u001b[0m\n\u001b[0m\u001b[1;32m     58\u001b[0m       tf.summary.summary_scope)\n\u001b[1;32m     59\u001b[0m   with summary_scope(\n",
      "\u001b[0;31mKeyboardInterrupt\u001b[0m: "
     ],
     "ename": "KeyboardInterrupt",
     "evalue": "",
     "output_type": "error"
    }
   ],
   "source": [
    "replaytrainer()\n",
    "\n"
   ],
   "metadata": {
    "collapsed": false,
    "pycharm": {
     "name": "#%%\n",
     "is_executing": false
    }
   }
  },
  {
   "cell_type": "code",
   "execution_count": 94,
   "outputs": [],
   "source": [
    "from util import VAEReplayJoiner\n",
    "\n",
    "def vae_replay_buffer(samples):\n",
    "    o_vae = vae.sample(tf.random.normal(shape=(samples, vae.latent_dim)))\n",
    "    return parse_output_vae(o_vae)\n",
    "\n",
    "vaeandreplay = VAEReplayJoiner(vae_replay_buffer, replay_buffer, 0.5)"
   ],
   "metadata": {
    "collapsed": false,
    "pycharm": {
     "name": "#%%\n",
     "is_executing": false
    }
   }
  },
  {
   "cell_type": "code",
   "execution_count": 95,
   "outputs": [
    {
     "traceback": [
      "\u001b[0;31m---------------------------------------------------------------------------\u001b[0m",
      "\u001b[0;31mValueError\u001b[0m                                Traceback (most recent call last)",
      "\u001b[0;32m<ipython-input-95-c1e503605b05>\u001b[0m in \u001b[0;36m<module>\u001b[0;34m\u001b[0m\n\u001b[0;32m----> 1\u001b[0;31m replaytrainer = Trainer(tf.keras.models.clone_model(policy), env, args, test_env=test_env, \\\n\u001b[0m\u001b[1;32m      2\u001b[0m                         custom_replay_buffer=vaeandreplay, retrieve_new_exp=False)\n\u001b[1;32m      3\u001b[0m \u001b[0;34m\u001b[0m\u001b[0m\n\u001b[1;32m      4\u001b[0m \u001b[0;34m\u001b[0m\u001b[0m\n",
      "\u001b[0;32m~/anaconda3/envs/seminar/lib/python3.7/site-packages/tensorflow_core/python/keras/models.py\u001b[0m in \u001b[0;36mclone_model\u001b[0;34m(model, input_tensors, clone_function)\u001b[0m\n\u001b[1;32m    420\u001b[0m   \u001b[0;32melse\u001b[0m\u001b[0;34m:\u001b[0m\u001b[0;34m\u001b[0m\u001b[0;34m\u001b[0m\u001b[0m\n\u001b[1;32m    421\u001b[0m     return _clone_functional_model(\n\u001b[0;32m--> 422\u001b[0;31m         model, input_tensors=input_tensors, layer_fn=clone_function)\n\u001b[0m\u001b[1;32m    423\u001b[0m \u001b[0;34m\u001b[0m\u001b[0m\n\u001b[1;32m    424\u001b[0m \u001b[0;34m\u001b[0m\u001b[0m\n",
      "\u001b[0;32m~/anaconda3/envs/seminar/lib/python3.7/site-packages/tensorflow_core/python/keras/models.py\u001b[0m in \u001b[0;36m_clone_functional_model\u001b[0;34m(model, input_tensors, layer_fn)\u001b[0m\n\u001b[1;32m    163\u001b[0m                      'got a `Sequential` instance instead:', model)\n\u001b[1;32m    164\u001b[0m   \u001b[0;32mif\u001b[0m \u001b[0;32mnot\u001b[0m \u001b[0mmodel\u001b[0m\u001b[0;34m.\u001b[0m\u001b[0m_is_graph_network\u001b[0m\u001b[0;34m:\u001b[0m\u001b[0;34m\u001b[0m\u001b[0;34m\u001b[0m\u001b[0m\n\u001b[0;32m--> 165\u001b[0;31m     raise ValueError('Expected `model` argument '\n\u001b[0m\u001b[1;32m    166\u001b[0m                      \u001b[0;34m'to be a functional `Model` instance, '\u001b[0m\u001b[0;34m\u001b[0m\u001b[0;34m\u001b[0m\u001b[0m\n\u001b[1;32m    167\u001b[0m                      'but got a subclass model instead.')\n",
      "\u001b[0;31mValueError\u001b[0m: Expected `model` argument to be a functional `Model` instance, but got a subclass model instead."
     ],
     "ename": "ValueError",
     "evalue": "Expected `model` argument to be a functional `Model` instance, but got a subclass model instead.",
     "output_type": "error"
    }
   ],
   "source": [
    "replaytrainer = Trainer(policy, env, args, test_env=test_env, \\\n",
    "                        custom_replay_buffer=vaeandreplay, retrieve_new_exp=False)\n"
   ],
   "metadata": {
    "collapsed": false,
    "pycharm": {
     "name": "#%%\n",
     "is_executing": false
    }
   }
  },
  {
   "cell_type": "code",
   "execution_count": 96,
   "outputs": [
    {
     "name": "stderr",
     "text": [
      "00:38:12.764 [INFO] (CustomTrainer.py:146) Evaluation Total Steps:    2000 Average Reward  9.2000 over  25 episodes\n",
      "00:38:25.586 [INFO] (CustomTrainer.py:146) Evaluation Total Steps:    4000 Average Reward  9.0800 over  25 episodes\n",
      "00:38:38.351 [INFO] (CustomTrainer.py:146) Evaluation Total Steps:    6000 Average Reward  9.2000 over  25 episodes\n"
     ],
     "output_type": "stream"
    }
   ],
   "source": [
    "replaytrainer()\n"
   ],
   "metadata": {
    "collapsed": false,
    "pycharm": {
     "name": "#%%\n",
     "is_executing": false
    }
   }
  },
  {
   "cell_type": "code",
   "execution_count": 97,
   "outputs": [],
   "source": [
    "class Random(tf.keras.Model):\n",
    "    def __init__(self, env):\n",
    "        self.env = env\n",
    "        self.policy_name = \"Random\"\n",
    "        self.memory_capacity = args.memory_capacity\n",
    "        self.n_warmup=args.n_warmup\n",
    "        self.update_interval = 5000\n",
    "        self.batch_size = args.batch_size\n",
    "        \n",
    "    def get_action(self, *args, **kwargs):\n",
    "        return self.env.action_space.sample()\n",
    "    \n",
    "    def train(self, *args, **kwargs):\n",
    "        pass\n"
   ],
   "metadata": {
    "collapsed": false,
    "pycharm": {
     "name": "#%%\n",
     "is_executing": false
    }
   }
  },
  {
   "cell_type": "code",
   "execution_count": 98,
   "outputs": [],
   "source": [
    "replaytrainer = Trainer(Random(env), env, args, test_env=test_env)"
   ],
   "metadata": {
    "collapsed": false,
    "pycharm": {
     "name": "#%%\n",
     "is_executing": false
    }
   }
  },
  {
   "cell_type": "code",
   "execution_count": 99,
   "outputs": [
    {
     "name": "stderr",
     "text": [
      "21:29:56.126 [INFO] (CustomTrainer.py:111) Total Epi:     1 Steps:      12 Episode Steps:    12 Return:  13.0000 FPS: 25118.84\n",
      "21:29:56.129 [INFO] (CustomTrainer.py:111) Total Epi:     2 Steps:      57 Episode Steps:    45 Return:  45.0000 FPS: 42464.57\n",
      "21:29:56.131 [INFO] (CustomTrainer.py:111) Total Epi:     3 Steps:      89 Episode Steps:    32 Return:  32.0000 FPS: 44977.36\n",
      "21:29:56.133 [INFO] (CustomTrainer.py:111) Total Epi:     4 Steps:     163 Episode Steps:    74 Return:  74.0000 FPS: 49207.82\n",
      "21:29:56.135 [INFO] (CustomTrainer.py:111) Total Epi:     5 Steps:     192 Episode Steps:    29 Return:  29.0000 FPS: 45068.29\n",
      "21:29:56.137 [INFO] (CustomTrainer.py:111) Total Epi:     6 Steps:     221 Episode Steps:    29 Return:  29.0000 FPS: 34626.54\n",
      "21:29:56.139 [INFO] (CustomTrainer.py:111) Total Epi:     7 Steps:     236 Episode Steps:    15 Return:  15.0000 FPS: 30207.89\n",
      "21:29:56.141 [INFO] (CustomTrainer.py:111) Total Epi:     8 Steps:     265 Episode Steps:    29 Return:  29.0000 FPS: 32819.98\n",
      "21:29:56.143 [INFO] (CustomTrainer.py:111) Total Epi:     9 Steps:     280 Episode Steps:    15 Return:  15.0000 FPS: 28829.58\n",
      "21:29:56.144 [INFO] (CustomTrainer.py:111) Total Epi:    10 Steps:     293 Episode Steps:    13 Return:  13.0000 FPS: 30422.24\n",
      "21:29:56.146 [INFO] (CustomTrainer.py:111) Total Epi:    11 Steps:     317 Episode Steps:    24 Return:  24.0000 FPS: 31810.87\n",
      "21:29:56.148 [INFO] (CustomTrainer.py:111) Total Epi:    12 Steps:     330 Episode Steps:    13 Return:  13.0000 FPS: 30534.42\n",
      "21:29:56.149 [INFO] (CustomTrainer.py:111) Total Epi:    13 Steps:     346 Episode Steps:    16 Return:  16.0000 FPS: 32450.48\n",
      "21:29:56.151 [INFO] (CustomTrainer.py:111) Total Epi:    14 Steps:     370 Episode Steps:    24 Return:  24.0000 FPS: 32984.34\n",
      "21:29:56.152 [INFO] (CustomTrainer.py:111) Total Epi:    15 Steps:     383 Episode Steps:    13 Return:  13.0000 FPS: 31041.88\n",
      "21:29:56.154 [INFO] (CustomTrainer.py:111) Total Epi:    16 Steps:     395 Episode Steps:    12 Return:  12.0000 FPS: 21348.97\n",
      "21:29:56.156 [INFO] (CustomTrainer.py:111) Total Epi:    17 Steps:     415 Episode Steps:    20 Return:  20.0000 FPS: 22025.75\n",
      "21:29:56.159 [INFO] (CustomTrainer.py:111) Total Epi:    18 Steps:     448 Episode Steps:    33 Return:  33.0000 FPS: 25710.00\n",
      "21:29:56.161 [INFO] (CustomTrainer.py:111) Total Epi:    19 Steps:     477 Episode Steps:    29 Return:  29.0000 FPS: 35507.54\n",
      "21:29:56.163 [INFO] (CustomTrainer.py:111) Total Epi:    20 Steps:     520 Episode Steps:    43 Return:  43.0000 FPS: 35485.66\n",
      "21:29:56.165 [INFO] (CustomTrainer.py:111) Total Epi:    21 Steps:     531 Episode Steps:    11 Return:  11.0000 FPS: 31962.90\n",
      "21:29:56.166 [INFO] (CustomTrainer.py:111) Total Epi:    22 Steps:     553 Episode Steps:    22 Return:  22.0000 FPS: 35122.56\n",
      "21:29:56.168 [INFO] (CustomTrainer.py:111) Total Epi:    23 Steps:     568 Episode Steps:    15 Return:  15.0000 FPS: 33421.04\n",
      "21:29:56.169 [INFO] (CustomTrainer.py:111) Total Epi:    24 Steps:     584 Episode Steps:    16 Return:  16.0000 FPS: 34485.81\n",
      "21:29:56.171 [INFO] (CustomTrainer.py:111) Total Epi:    25 Steps:     605 Episode Steps:    21 Return:  21.0000 FPS: 36176.46\n",
      "21:29:56.173 [INFO] (CustomTrainer.py:111) Total Epi:    26 Steps:     621 Episode Steps:    16 Return:  16.0000 FPS: 34323.79\n",
      "21:29:56.174 [INFO] (CustomTrainer.py:111) Total Epi:    27 Steps:     634 Episode Steps:    13 Return:  13.0000 FPS: 33137.99\n",
      "21:29:56.176 [INFO] (CustomTrainer.py:111) Total Epi:    28 Steps:     656 Episode Steps:    22 Return:  22.0000 FPS: 33161.55\n",
      "21:29:56.177 [INFO] (CustomTrainer.py:111) Total Epi:    29 Steps:     666 Episode Steps:    10 Return:  10.0000 FPS: 30548.44\n",
      "21:29:56.179 [INFO] (CustomTrainer.py:111) Total Epi:    30 Steps:     679 Episode Steps:    13 Return:  13.0000 FPS: 32452.21\n",
      "21:29:56.182 [INFO] (CustomTrainer.py:111) Total Epi:    31 Steps:     716 Episode Steps:    37 Return:  37.0000 FPS: 25757.12\n",
      "21:29:56.184 [INFO] (CustomTrainer.py:111) Total Epi:    32 Steps:     737 Episode Steps:    21 Return:  21.0000 FPS: 22709.87\n",
      "21:29:56.186 [INFO] (CustomTrainer.py:111) Total Epi:    33 Steps:     754 Episode Steps:    17 Return:  17.0000 FPS: 20962.60\n",
      "21:29:56.188 [INFO] (CustomTrainer.py:111) Total Epi:    34 Steps:     777 Episode Steps:    23 Return:  23.0000 FPS: 27314.36\n",
      "21:29:56.190 [INFO] (CustomTrainer.py:111) Total Epi:    35 Steps:     799 Episode Steps:    22 Return:  22.0000 FPS: 28327.96\n",
      "21:29:56.192 [INFO] (CustomTrainer.py:111) Total Epi:    36 Steps:     822 Episode Steps:    23 Return:  23.0000 FPS: 27340.01\n",
      "21:29:56.194 [INFO] (CustomTrainer.py:111) Total Epi:    37 Steps:     843 Episode Steps:    21 Return:  21.0000 FPS: 38769.78\n",
      "21:29:56.196 [INFO] (CustomTrainer.py:111) Total Epi:    38 Steps:     884 Episode Steps:    41 Return:  41.0000 FPS: 40291.36\n",
      "21:29:56.197 [INFO] (CustomTrainer.py:111) Total Epi:    39 Steps:     898 Episode Steps:    14 Return:  14.0000 FPS: 37613.17\n",
      "21:29:56.198 [INFO] (CustomTrainer.py:111) Total Epi:    40 Steps:     908 Episode Steps:    10 Return:  10.0000 FPS: 40369.79\n",
      "21:29:56.200 [INFO] (CustomTrainer.py:111) Total Epi:    41 Steps:     928 Episode Steps:    20 Return:  20.0000 FPS: 42768.95\n",
      "21:29:56.201 [INFO] (CustomTrainer.py:111) Total Epi:    42 Steps:     940 Episode Steps:    12 Return:  12.0000 FPS: 40473.68\n",
      "21:29:56.202 [INFO] (CustomTrainer.py:111) Total Epi:    43 Steps:     955 Episode Steps:    15 Return:  15.0000 FPS: 42032.23\n",
      "21:29:56.206 [INFO] (CustomTrainer.py:111) Total Epi:    44 Steps:    1029 Episode Steps:    74 Return:  74.0000 FPS: 32846.90\n",
      "21:29:56.210 [INFO] (CustomTrainer.py:111) Total Epi:    45 Steps:    1043 Episode Steps:    14 Return:  14.0000 FPS: 24813.98\n",
      "21:29:56.211 [INFO] (CustomTrainer.py:111) Total Epi:    46 Steps:    1055 Episode Steps:    12 Return:  12.0000 FPS: 25159.45\n",
      "21:29:56.213 [INFO] (CustomTrainer.py:111) Total Epi:    47 Steps:    1070 Episode Steps:    15 Return:  15.0000 FPS: 26067.05\n",
      "21:29:56.215 [INFO] (CustomTrainer.py:111) Total Epi:    48 Steps:    1085 Episode Steps:    15 Return:  15.0000 FPS: 26943.09\n",
      "21:29:56.217 [INFO] (CustomTrainer.py:111) Total Epi:    49 Steps:    1136 Episode Steps:    51 Return:  51.0000 FPS: 29025.33\n",
      "21:29:56.219 [INFO] (CustomTrainer.py:111) Total Epi:    50 Steps:    1147 Episode Steps:    11 Return:  11.0000 FPS: 26111.58\n",
      "21:29:56.221 [INFO] (CustomTrainer.py:111) Total Epi:    51 Steps:    1157 Episode Steps:    10 Return:  10.0000 FPS: 24311.44\n",
      "21:29:56.225 [INFO] (CustomTrainer.py:111) Total Epi:    52 Steps:    1223 Episode Steps:    66 Return:  66.0000 FPS: 31176.12\n",
      "21:29:56.228 [INFO] (CustomTrainer.py:111) Total Epi:    53 Steps:    1252 Episode Steps:    29 Return:  29.0000 FPS: 25790.91\n",
      "21:29:56.230 [INFO] (CustomTrainer.py:111) Total Epi:    54 Steps:    1279 Episode Steps:    27 Return:  27.0000 FPS: 27206.83\n",
      "21:29:56.232 [INFO] (CustomTrainer.py:111) Total Epi:    55 Steps:    1295 Episode Steps:    16 Return:  16.0000 FPS: 26507.27\n",
      "21:29:56.235 [INFO] (CustomTrainer.py:111) Total Epi:    56 Steps:    1347 Episode Steps:    52 Return:  52.0000 FPS: 28709.20\n",
      "21:29:56.238 [INFO] (CustomTrainer.py:111) Total Epi:    57 Steps:    1386 Episode Steps:    39 Return:  39.0000 FPS: 29030.67\n",
      "21:29:56.240 [INFO] (CustomTrainer.py:111) Total Epi:    58 Steps:    1405 Episode Steps:    19 Return:  19.0000 FPS: 27063.29\n",
      "21:29:56.243 [INFO] (CustomTrainer.py:111) Total Epi:    59 Steps:    1436 Episode Steps:    31 Return:  31.0000 FPS: 27259.05\n",
      "21:29:56.245 [INFO] (CustomTrainer.py:111) Total Epi:    60 Steps:    1448 Episode Steps:    12 Return:  12.0000 FPS: 24648.81\n",
      "21:29:56.247 [INFO] (CustomTrainer.py:111) Total Epi:    61 Steps:    1469 Episode Steps:    21 Return:  21.0000 FPS: 27377.29\n",
      "21:29:56.249 [INFO] (CustomTrainer.py:111) Total Epi:    62 Steps:    1483 Episode Steps:    14 Return:  14.0000 FPS: 25294.09\n",
      "21:29:56.251 [INFO] (CustomTrainer.py:111) Total Epi:    63 Steps:    1504 Episode Steps:    21 Return:  21.0000 FPS: 27310.75\n",
      "21:29:56.254 [INFO] (CustomTrainer.py:111) Total Epi:    64 Steps:    1563 Episode Steps:    59 Return:  59.0000 FPS: 29535.80\n",
      "21:29:56.257 [INFO] (CustomTrainer.py:111) Total Epi:    65 Steps:    1600 Episode Steps:    37 Return:  37.0000 FPS: 28088.25\n",
      "21:29:56.260 [INFO] (CustomTrainer.py:111) Total Epi:    66 Steps:    1636 Episode Steps:    36 Return:  36.0000 FPS: 29251.72\n",
      "21:29:56.262 [INFO] (CustomTrainer.py:111) Total Epi:    67 Steps:    1649 Episode Steps:    13 Return:  13.0000 FPS: 25647.65\n",
      "21:29:56.263 [INFO] (CustomTrainer.py:111) Total Epi:    68 Steps:    1666 Episode Steps:    17 Return:  17.0000 FPS: 26363.17\n",
      "21:29:56.265 [INFO] (CustomTrainer.py:111) Total Epi:    69 Steps:    1677 Episode Steps:    11 Return:  11.0000 FPS: 25637.50\n",
      "21:29:56.267 [INFO] (CustomTrainer.py:111) Total Epi:    70 Steps:    1688 Episode Steps:    11 Return:  11.0000 FPS: 24792.70\n",
      "21:29:56.269 [INFO] (CustomTrainer.py:111) Total Epi:    71 Steps:    1704 Episode Steps:    16 Return:  16.0000 FPS: 27247.54\n",
      "21:29:56.272 [INFO] (CustomTrainer.py:111) Total Epi:    72 Steps:    1765 Episode Steps:    61 Return:  61.0000 FPS: 33058.10\n",
      "21:29:56.274 [INFO] (CustomTrainer.py:111) Total Epi:    73 Steps:    1796 Episode Steps:    31 Return:  31.0000 FPS: 32606.59\n",
      "21:29:56.276 [INFO] (CustomTrainer.py:111) Total Epi:    74 Steps:    1810 Episode Steps:    14 Return:  14.0000 FPS: 22787.64\n",
      "21:29:56.278 [INFO] (CustomTrainer.py:111) Total Epi:    75 Steps:    1823 Episode Steps:    13 Return:  13.0000 FPS: 24618.97\n",
      "21:29:56.281 [INFO] (CustomTrainer.py:111) Total Epi:    76 Steps:    1843 Episode Steps:    20 Return:  20.0000 FPS: 27223.55\n",
      "21:29:56.283 [INFO] (CustomTrainer.py:111) Total Epi:    77 Steps:    1873 Episode Steps:    30 Return:  30.0000 FPS: 29471.34\n",
      "21:29:56.285 [INFO] (CustomTrainer.py:111) Total Epi:    78 Steps:    1884 Episode Steps:    11 Return:  11.0000 FPS: 25793.80\n",
      "21:29:56.286 [INFO] (CustomTrainer.py:111) Total Epi:    79 Steps:    1894 Episode Steps:    10 Return:  10.0000 FPS: 25276.85\n",
      "21:29:56.288 [INFO] (CustomTrainer.py:111) Total Epi:    80 Steps:    1907 Episode Steps:    13 Return:  13.0000 FPS: 24034.95\n",
      "21:29:56.290 [INFO] (CustomTrainer.py:111) Total Epi:    81 Steps:    1919 Episode Steps:    12 Return:  12.0000 FPS: 32732.33\n",
      "21:29:56.294 [INFO] (CustomTrainer.py:111) Total Epi:    82 Steps:    1942 Episode Steps:    23 Return:  23.0000 FPS: 13704.05\n",
      "21:29:56.298 [INFO] (CustomTrainer.py:111) Total Epi:    83 Steps:    1964 Episode Steps:    22 Return:  22.0000 FPS: 14174.74\n",
      "21:29:56.301 [INFO] (CustomTrainer.py:111) Total Epi:    84 Steps:    1984 Episode Steps:    20 Return:  20.0000 FPS: 19056.39\n",
      "21:29:56.307 [INFO] (CustomTrainer.py:146) Evaluation Total Steps:    2000 Average Reward  24.2000 over  5 episodes\n",
      "21:29:56.311 [INFO] (CustomTrainer.py:111) Total Epi:    85 Steps:    2019 Episode Steps:    35 Return:  35.0000 FPS: 4396.80\n",
      "21:29:56.313 [INFO] (CustomTrainer.py:111) Total Epi:    86 Steps:    2034 Episode Steps:    15 Return:  15.0000 FPS: 35933.39\n",
      "21:29:56.315 [INFO] (CustomTrainer.py:111) Total Epi:    87 Steps:    2070 Episode Steps:    36 Return:  36.0000 FPS: 37436.51\n",
      "21:29:56.316 [INFO] (CustomTrainer.py:111) Total Epi:    88 Steps:    2090 Episode Steps:    20 Return:  20.0000 FPS: 41211.71\n",
      "21:29:56.318 [INFO] (CustomTrainer.py:111) Total Epi:    89 Steps:    2106 Episode Steps:    16 Return:  16.0000 FPS: 33558.53\n",
      "21:29:56.319 [INFO] (CustomTrainer.py:111) Total Epi:    90 Steps:    2125 Episode Steps:    19 Return:  19.0000 FPS: 38334.35\n",
      "21:29:56.321 [INFO] (CustomTrainer.py:111) Total Epi:    91 Steps:    2149 Episode Steps:    24 Return:  24.0000 FPS: 40142.57\n",
      "21:29:56.323 [INFO] (CustomTrainer.py:111) Total Epi:    92 Steps:    2163 Episode Steps:    14 Return:  14.0000 FPS: 37008.74\n",
      "21:29:56.324 [INFO] (CustomTrainer.py:111) Total Epi:    93 Steps:    2186 Episode Steps:    23 Return:  23.0000 FPS: 39057.92\n",
      "21:29:56.326 [INFO] (CustomTrainer.py:111) Total Epi:    94 Steps:    2197 Episode Steps:    11 Return:  11.0000 FPS: 25029.64\n",
      "21:29:56.328 [INFO] (CustomTrainer.py:111) Total Epi:    95 Steps:    2206 Episode Steps:     9 Return:  9.0000 FPS: 22439.47\n",
      "21:29:56.330 [INFO] (CustomTrainer.py:111) Total Epi:    96 Steps:    2220 Episode Steps:    14 Return:  14.0000 FPS: 23493.56\n",
      "21:29:56.332 [INFO] (CustomTrainer.py:111) Total Epi:    97 Steps:    2235 Episode Steps:    15 Return:  15.0000 FPS: 24537.91\n",
      "21:29:56.333 [INFO] (CustomTrainer.py:111) Total Epi:    98 Steps:    2247 Episode Steps:    12 Return:  12.0000 FPS: 26801.33\n",
      "21:29:56.335 [INFO] (CustomTrainer.py:111) Total Epi:    99 Steps:    2261 Episode Steps:    14 Return:  14.0000 FPS: 26818.95\n",
      "21:29:56.337 [INFO] (CustomTrainer.py:111) Total Epi:   100 Steps:    2276 Episode Steps:    15 Return:  15.0000 FPS: 26808.26\n",
      "21:29:56.339 [INFO] (CustomTrainer.py:111) Total Epi:   101 Steps:    2290 Episode Steps:    14 Return:  14.0000 FPS: 26126.28\n",
      "21:29:56.343 [INFO] (CustomTrainer.py:111) Total Epi:   102 Steps:    2380 Episode Steps:    90 Return:  90.0000 FPS: 29739.16\n",
      "21:29:56.345 [INFO] (CustomTrainer.py:111) Total Epi:   103 Steps:    2414 Episode Steps:    34 Return:  34.0000 FPS: 28569.82\n",
      "21:29:56.347 [INFO] (CustomTrainer.py:111) Total Epi:   104 Steps:    2425 Episode Steps:    11 Return:  11.0000 FPS: 26915.99\n",
      "21:29:56.349 [INFO] (CustomTrainer.py:111) Total Epi:   105 Steps:    2439 Episode Steps:    14 Return:  14.0000 FPS: 26411.66\n",
      "21:29:56.351 [INFO] (CustomTrainer.py:111) Total Epi:   106 Steps:    2458 Episode Steps:    19 Return:  19.0000 FPS: 28010.83\n",
      "21:29:56.352 [INFO] (CustomTrainer.py:111) Total Epi:   107 Steps:    2473 Episode Steps:    15 Return:  15.0000 FPS: 27092.98\n",
      "21:29:56.354 [INFO] (CustomTrainer.py:111) Total Epi:   108 Steps:    2494 Episode Steps:    21 Return:  21.0000 FPS: 30339.02\n",
      "21:29:56.357 [INFO] (CustomTrainer.py:111) Total Epi:   109 Steps:    2510 Episode Steps:    16 Return:  16.0000 FPS: 27403.88\n",
      "21:29:56.358 [INFO] (CustomTrainer.py:111) Total Epi:   110 Steps:    2524 Episode Steps:    14 Return:  14.0000 FPS: 29330.49\n",
      "21:29:56.361 [INFO] (CustomTrainer.py:111) Total Epi:   111 Steps:    2548 Episode Steps:    24 Return:  24.0000 FPS: 30281.31\n",
      "21:29:56.363 [INFO] (CustomTrainer.py:111) Total Epi:   112 Steps:    2577 Episode Steps:    29 Return:  29.0000 FPS: 30780.11\n",
      "21:29:56.365 [INFO] (CustomTrainer.py:111) Total Epi:   113 Steps:    2623 Episode Steps:    46 Return:  46.0000 FPS: 31456.50\n",
      "21:29:56.368 [INFO] (CustomTrainer.py:111) Total Epi:   114 Steps:    2644 Episode Steps:    21 Return:  21.0000 FPS: 26431.45\n",
      "21:29:56.370 [INFO] (CustomTrainer.py:111) Total Epi:   115 Steps:    2659 Episode Steps:    15 Return:  15.0000 FPS: 26409.94\n",
      "21:29:56.372 [INFO] (CustomTrainer.py:111) Total Epi:   116 Steps:    2670 Episode Steps:    11 Return:  11.0000 FPS: 24482.04\n",
      "21:29:56.374 [INFO] (CustomTrainer.py:111) Total Epi:   117 Steps:    2693 Episode Steps:    23 Return:  23.0000 FPS: 26908.80\n",
      "21:29:56.376 [INFO] (CustomTrainer.py:111) Total Epi:   118 Steps:    2709 Episode Steps:    16 Return:  16.0000 FPS: 25636.96\n",
      "21:29:56.378 [INFO] (CustomTrainer.py:111) Total Epi:   119 Steps:    2729 Episode Steps:    20 Return:  20.0000 FPS: 27350.50\n",
      "21:29:56.380 [INFO] (CustomTrainer.py:111) Total Epi:   120 Steps:    2744 Episode Steps:    15 Return:  15.0000 FPS: 18583.95\n",
      "21:29:56.382 [INFO] (CustomTrainer.py:111) Total Epi:   121 Steps:    2757 Episode Steps:    13 Return:  13.0000 FPS: 22035.06\n",
      "21:29:56.383 [INFO] (CustomTrainer.py:111) Total Epi:   122 Steps:    2766 Episode Steps:     9 Return:  9.0000 FPS: 18649.02\n",
      "21:29:56.386 [INFO] (CustomTrainer.py:111) Total Epi:   123 Steps:    2790 Episode Steps:    24 Return:  24.0000 FPS: 21957.37\n",
      "21:29:56.388 [INFO] (CustomTrainer.py:111) Total Epi:   124 Steps:    2811 Episode Steps:    21 Return:  21.0000 FPS: 20369.60\n",
      "21:29:56.391 [INFO] (CustomTrainer.py:111) Total Epi:   125 Steps:    2840 Episode Steps:    29 Return:  29.0000 FPS: 22006.93\n",
      "21:29:56.393 [INFO] (CustomTrainer.py:111) Total Epi:   126 Steps:    2851 Episode Steps:    11 Return:  11.0000 FPS: 20928.50\n",
      "21:29:56.395 [INFO] (CustomTrainer.py:111) Total Epi:   127 Steps:    2876 Episode Steps:    25 Return:  25.0000 FPS: 23375.45\n",
      "21:29:56.397 [INFO] (CustomTrainer.py:111) Total Epi:   128 Steps:    2899 Episode Steps:    23 Return:  23.0000 FPS: 19140.87\n",
      "21:29:56.399 [INFO] (CustomTrainer.py:111) Total Epi:   129 Steps:    2916 Episode Steps:    17 Return:  17.0000 FPS: 18406.48\n",
      "21:29:56.402 [INFO] (CustomTrainer.py:111) Total Epi:   130 Steps:    2942 Episode Steps:    26 Return:  26.0000 FPS: 25131.26\n",
      "21:29:56.405 [INFO] (CustomTrainer.py:111) Total Epi:   131 Steps:    2956 Episode Steps:    14 Return:  14.0000 FPS: 17618.53\n",
      "21:29:56.407 [INFO] (CustomTrainer.py:111) Total Epi:   132 Steps:    2976 Episode Steps:    20 Return:  20.0000 FPS: 29579.28\n",
      "21:29:56.409 [INFO] (CustomTrainer.py:111) Total Epi:   133 Steps:    2994 Episode Steps:    18 Return:  18.0000 FPS: 31734.33\n",
      "21:29:56.410 [INFO] (CustomTrainer.py:111) Total Epi:   134 Steps:    3010 Episode Steps:    16 Return:  16.0000 FPS: 32358.60\n",
      "21:29:56.412 [INFO] (CustomTrainer.py:111) Total Epi:   135 Steps:    3035 Episode Steps:    25 Return:  25.0000 FPS: 33909.85\n",
      "21:29:56.414 [INFO] (CustomTrainer.py:111) Total Epi:   136 Steps:    3065 Episode Steps:    30 Return:  30.0000 FPS: 33420.67\n",
      "21:29:56.415 [INFO] (CustomTrainer.py:111) Total Epi:   137 Steps:    3074 Episode Steps:     9 Return:  9.0000 FPS: 27972.98\n",
      "21:29:56.417 [INFO] (CustomTrainer.py:111) Total Epi:   138 Steps:    3095 Episode Steps:    21 Return:  21.0000 FPS: 34823.62\n",
      "21:29:56.419 [INFO] (CustomTrainer.py:111) Total Epi:   139 Steps:    3125 Episode Steps:    30 Return:  30.0000 FPS: 35959.67\n",
      "21:29:56.422 [INFO] (CustomTrainer.py:111) Total Epi:   140 Steps:    3155 Episode Steps:    30 Return:  30.0000 FPS: 29397.44\n",
      "21:29:56.424 [INFO] (CustomTrainer.py:111) Total Epi:   141 Steps:    3181 Episode Steps:    26 Return:  26.0000 FPS: 24539.25\n",
      "21:29:56.426 [INFO] (CustomTrainer.py:111) Total Epi:   142 Steps:    3199 Episode Steps:    18 Return:  18.0000 FPS: 28886.52\n",
      "21:29:56.428 [INFO] (CustomTrainer.py:111) Total Epi:   143 Steps:    3222 Episode Steps:    23 Return:  23.0000 FPS: 23479.98\n",
      "21:29:56.430 [INFO] (CustomTrainer.py:111) Total Epi:   144 Steps:    3241 Episode Steps:    19 Return:  19.0000 FPS: 28002.21\n",
      "21:29:56.433 [INFO] (CustomTrainer.py:111) Total Epi:   145 Steps:    3253 Episode Steps:    12 Return:  12.0000 FPS: 17503.99\n",
      "21:29:56.435 [INFO] (CustomTrainer.py:111) Total Epi:   146 Steps:    3275 Episode Steps:    22 Return:  22.0000 FPS: 22562.07\n",
      "21:29:56.436 [INFO] (CustomTrainer.py:111) Total Epi:   147 Steps:    3289 Episode Steps:    14 Return:  14.0000 FPS: 28032.57\n",
      "21:29:56.438 [INFO] (CustomTrainer.py:111) Total Epi:   148 Steps:    3302 Episode Steps:    13 Return:  13.0000 FPS: 25148.52\n",
      "21:29:56.441 [INFO] (CustomTrainer.py:111) Total Epi:   149 Steps:    3357 Episode Steps:    55 Return:  55.0000 FPS: 35929.02\n",
      "21:29:56.443 [INFO] (CustomTrainer.py:111) Total Epi:   150 Steps:    3369 Episode Steps:    12 Return:  12.0000 FPS: 25226.57\n",
      "21:29:56.445 [INFO] (CustomTrainer.py:111) Total Epi:   151 Steps:    3415 Episode Steps:    46 Return:  46.0000 FPS: 31396.83\n",
      "21:29:56.448 [INFO] (CustomTrainer.py:111) Total Epi:   152 Steps:    3433 Episode Steps:    18 Return:  18.0000 FPS: 27351.97\n",
      "21:29:56.451 [INFO] (CustomTrainer.py:111) Total Epi:   153 Steps:    3471 Episode Steps:    38 Return:  38.0000 FPS: 32006.82\n",
      "21:29:56.454 [INFO] (CustomTrainer.py:111) Total Epi:   154 Steps:    3493 Episode Steps:    22 Return:  22.0000 FPS: 20930.49\n",
      "21:29:56.457 [INFO] (CustomTrainer.py:111) Total Epi:   155 Steps:    3516 Episode Steps:    23 Return:  23.0000 FPS: 24357.75\n",
      "21:29:56.460 [INFO] (CustomTrainer.py:111) Total Epi:   156 Steps:    3536 Episode Steps:    20 Return:  20.0000 FPS: 20545.10\n",
      "21:29:56.463 [INFO] (CustomTrainer.py:111) Total Epi:   157 Steps:    3554 Episode Steps:    18 Return:  18.0000 FPS: 23957.23\n",
      "21:29:56.466 [INFO] (CustomTrainer.py:111) Total Epi:   158 Steps:    3591 Episode Steps:    37 Return:  37.0000 FPS: 29803.93\n",
      "21:29:56.468 [INFO] (CustomTrainer.py:111) Total Epi:   159 Steps:    3609 Episode Steps:    18 Return:  18.0000 FPS: 27968.64\n",
      "21:29:56.471 [INFO] (CustomTrainer.py:111) Total Epi:   160 Steps:    3653 Episode Steps:    44 Return:  44.0000 FPS: 29115.43\n",
      "21:29:56.473 [INFO] (CustomTrainer.py:111) Total Epi:   161 Steps:    3673 Episode Steps:    20 Return:  20.0000 FPS: 26977.16\n",
      "21:29:56.475 [INFO] (CustomTrainer.py:111) Total Epi:   162 Steps:    3683 Episode Steps:    10 Return:  10.0000 FPS: 27625.84\n",
      "21:29:56.476 [INFO] (CustomTrainer.py:111) Total Epi:   163 Steps:    3693 Episode Steps:    10 Return:  10.0000 FPS: 28952.02\n",
      "21:29:56.477 [INFO] (CustomTrainer.py:111) Total Epi:   164 Steps:    3717 Episode Steps:    24 Return:  24.0000 FPS: 31837.92\n",
      "21:29:56.479 [INFO] (CustomTrainer.py:111) Total Epi:   165 Steps:    3740 Episode Steps:    23 Return:  23.0000 FPS: 31760.98\n",
      "21:29:56.480 [INFO] (CustomTrainer.py:111) Total Epi:   166 Steps:    3753 Episode Steps:    13 Return:  13.0000 FPS: 24473.86\n",
      "21:29:56.481 [INFO] (CustomTrainer.py:111) Total Epi:   167 Steps:    3768 Episode Steps:    15 Return:  15.0000 FPS: 28035.86\n",
      "21:29:56.483 [INFO] (CustomTrainer.py:111) Total Epi:   168 Steps:    3787 Episode Steps:    19 Return:  19.0000 FPS: 28653.38\n",
      "21:29:56.485 [INFO] (CustomTrainer.py:111) Total Epi:   169 Steps:    3819 Episode Steps:    32 Return:  32.0000 FPS: 29698.46\n",
      "21:29:56.486 [INFO] (CustomTrainer.py:111) Total Epi:   170 Steps:    3847 Episode Steps:    28 Return:  28.0000 FPS: 28986.47\n",
      "21:29:56.488 [INFO] (CustomTrainer.py:111) Total Epi:   171 Steps:    3862 Episode Steps:    15 Return:  15.0000 FPS: 25556.75\n",
      "21:29:56.489 [INFO] (CustomTrainer.py:111) Total Epi:   172 Steps:    3883 Episode Steps:    21 Return:  21.0000 FPS: 29148.13\n",
      "21:29:56.491 [INFO] (CustomTrainer.py:111) Total Epi:   173 Steps:    3899 Episode Steps:    16 Return:  16.0000 FPS: 30069.03\n",
      "21:29:56.492 [INFO] (CustomTrainer.py:111) Total Epi:   174 Steps:    3926 Episode Steps:    27 Return:  27.0000 FPS: 41973.76\n",
      "21:29:56.493 [INFO] (CustomTrainer.py:111) Total Epi:   175 Steps:    3946 Episode Steps:    20 Return:  20.0000 FPS: 42748.93\n",
      "21:29:56.494 [INFO] (CustomTrainer.py:111) Total Epi:   176 Steps:    3959 Episode Steps:    13 Return:  13.0000 FPS: 40375.30\n",
      "21:29:56.495 [INFO] (CustomTrainer.py:111) Total Epi:   177 Steps:    3979 Episode Steps:    20 Return:  20.0000 FPS: 42017.78\n",
      "21:29:56.496 [INFO] (CustomTrainer.py:111) Total Epi:   178 Steps:    3992 Episode Steps:    13 Return:  13.0000 FPS: 41153.57\n",
      "21:29:56.498 [INFO] (CustomTrainer.py:146) Evaluation Total Steps:    4000 Average Reward  16.6000 over  5 episodes\n",
      "21:29:56.499 [INFO] (CustomTrainer.py:111) Total Epi:   179 Steps:    4008 Episode Steps:    16 Return:  16.0000 FPS: 5495.20\n",
      "21:29:56.501 [INFO] (CustomTrainer.py:111) Total Epi:   180 Steps:    4059 Episode Steps:    51 Return:  51.0000 FPS: 43604.76\n",
      "21:29:56.502 [INFO] (CustomTrainer.py:111) Total Epi:   181 Steps:    4078 Episode Steps:    19 Return:  19.0000 FPS: 41970.49\n",
      "21:29:56.503 [INFO] (CustomTrainer.py:111) Total Epi:   182 Steps:    4107 Episode Steps:    29 Return:  29.0000 FPS: 41390.20\n",
      "21:29:56.504 [INFO] (CustomTrainer.py:111) Total Epi:   183 Steps:    4122 Episode Steps:    15 Return:  15.0000 FPS: 39362.95\n",
      "21:29:56.506 [INFO] (CustomTrainer.py:111) Total Epi:   184 Steps:    4144 Episode Steps:    22 Return:  22.0000 FPS: 41755.32\n",
      "21:29:56.507 [INFO] (CustomTrainer.py:111) Total Epi:   185 Steps:    4163 Episode Steps:    19 Return:  19.0000 FPS: 41494.77\n",
      "21:29:56.508 [INFO] (CustomTrainer.py:111) Total Epi:   186 Steps:    4210 Episode Steps:    47 Return:  47.0000 FPS: 45222.01\n",
      "21:29:56.509 [INFO] (CustomTrainer.py:111) Total Epi:   187 Steps:    4225 Episode Steps:    15 Return:  15.0000 FPS: 30642.32\n",
      "21:29:56.511 [INFO] (CustomTrainer.py:111) Total Epi:   188 Steps:    4255 Episode Steps:    30 Return:  30.0000 FPS: 32264.38\n",
      "21:29:56.512 [INFO] (CustomTrainer.py:111) Total Epi:   189 Steps:    4265 Episode Steps:    10 Return:  10.0000 FPS: 28968.80\n",
      "21:29:56.514 [INFO] (CustomTrainer.py:111) Total Epi:   190 Steps:    4286 Episode Steps:    21 Return:  21.0000 FPS: 24948.68\n",
      "21:29:56.515 [INFO] (CustomTrainer.py:111) Total Epi:   191 Steps:    4299 Episode Steps:    13 Return:  13.0000 FPS: 30520.09\n",
      "21:29:56.517 [INFO] (CustomTrainer.py:111) Total Epi:   192 Steps:    4332 Episode Steps:    33 Return:  33.0000 FPS: 33486.29\n",
      "21:29:56.518 [INFO] (CustomTrainer.py:111) Total Epi:   193 Steps:    4352 Episode Steps:    20 Return:  20.0000 FPS: 46482.55\n",
      "21:29:56.519 [INFO] (CustomTrainer.py:111) Total Epi:   194 Steps:    4368 Episode Steps:    16 Return:  16.0000 FPS: 45679.18\n",
      "21:29:56.519 [INFO] (CustomTrainer.py:111) Total Epi:   195 Steps:    4387 Episode Steps:    19 Return:  19.0000 FPS: 45454.66\n",
      "21:29:56.522 [INFO] (CustomTrainer.py:111) Total Epi:   196 Steps:    4411 Episode Steps:    24 Return:  24.0000 FPS: 14441.77\n",
      "21:29:56.524 [INFO] (CustomTrainer.py:111) Total Epi:   197 Steps:    4424 Episode Steps:    13 Return:  13.0000 FPS: 22138.66\n",
      "21:29:56.526 [INFO] (CustomTrainer.py:111) Total Epi:   198 Steps:    4443 Episode Steps:    19 Return:  19.0000 FPS: 23662.51\n",
      "21:29:56.528 [INFO] (CustomTrainer.py:111) Total Epi:   199 Steps:    4457 Episode Steps:    14 Return:  14.0000 FPS: 22586.15\n",
      "21:29:56.530 [INFO] (CustomTrainer.py:111) Total Epi:   200 Steps:    4481 Episode Steps:    24 Return:  24.0000 FPS: 30289.72\n",
      "21:29:56.531 [INFO] (CustomTrainer.py:111) Total Epi:   201 Steps:    4497 Episode Steps:    16 Return:  16.0000 FPS: 35692.06\n",
      "21:29:56.532 [INFO] (CustomTrainer.py:111) Total Epi:   202 Steps:    4513 Episode Steps:    16 Return:  16.0000 FPS: 31974.48\n",
      "21:29:56.534 [INFO] (CustomTrainer.py:111) Total Epi:   203 Steps:    4535 Episode Steps:    22 Return:  22.0000 FPS: 33113.13\n",
      "21:29:56.535 [INFO] (CustomTrainer.py:111) Total Epi:   204 Steps:    4559 Episode Steps:    24 Return:  24.0000 FPS: 32154.43\n",
      "21:29:56.537 [INFO] (CustomTrainer.py:111) Total Epi:   205 Steps:    4581 Episode Steps:    22 Return:  22.0000 FPS: 33258.85\n",
      "21:29:56.539 [INFO] (CustomTrainer.py:111) Total Epi:   206 Steps:    4606 Episode Steps:    25 Return:  25.0000 FPS: 33760.15\n",
      "21:29:56.541 [INFO] (CustomTrainer.py:111) Total Epi:   207 Steps:    4651 Episode Steps:    45 Return:  45.0000 FPS: 33485.43\n",
      "21:29:56.543 [INFO] (CustomTrainer.py:111) Total Epi:   208 Steps:    4681 Episode Steps:    30 Return:  30.0000 FPS: 34199.80\n",
      "21:29:56.544 [INFO] (CustomTrainer.py:111) Total Epi:   209 Steps:    4692 Episode Steps:    11 Return:  11.0000 FPS: 31568.37\n",
      "21:29:56.546 [INFO] (CustomTrainer.py:111) Total Epi:   210 Steps:    4731 Episode Steps:    39 Return:  39.0000 FPS: 34189.62\n",
      "21:29:56.548 [INFO] (CustomTrainer.py:111) Total Epi:   211 Steps:    4761 Episode Steps:    30 Return:  30.0000 FPS: 32451.45\n",
      "21:29:56.549 [INFO] (CustomTrainer.py:111) Total Epi:   212 Steps:    4771 Episode Steps:    10 Return:  10.0000 FPS: 30591.33\n",
      "21:29:56.551 [INFO] (CustomTrainer.py:111) Total Epi:   213 Steps:    4795 Episode Steps:    24 Return:  24.0000 FPS: 33044.74\n",
      "21:29:56.552 [INFO] (CustomTrainer.py:111) Total Epi:   214 Steps:    4811 Episode Steps:    16 Return:  16.0000 FPS: 32333.75\n",
      "21:29:56.553 [INFO] (CustomTrainer.py:111) Total Epi:   215 Steps:    4826 Episode Steps:    15 Return:  15.0000 FPS: 31769.63\n",
      "21:29:56.555 [INFO] (CustomTrainer.py:111) Total Epi:   216 Steps:    4839 Episode Steps:    13 Return:  13.0000 FPS: 30991.56\n",
      "21:29:56.556 [INFO] (CustomTrainer.py:111) Total Epi:   217 Steps:    4853 Episode Steps:    14 Return:  14.0000 FPS: 31842.14\n",
      "21:29:56.557 [INFO] (CustomTrainer.py:111) Total Epi:   218 Steps:    4865 Episode Steps:    12 Return:  12.0000 FPS: 29024.14\n",
      "21:29:56.559 [INFO] (CustomTrainer.py:111) Total Epi:   219 Steps:    4881 Episode Steps:    16 Return:  16.0000 FPS: 32015.43\n",
      "21:29:56.560 [INFO] (CustomTrainer.py:111) Total Epi:   220 Steps:    4898 Episode Steps:    17 Return:  17.0000 FPS: 32993.82\n",
      "21:29:56.562 [INFO] (CustomTrainer.py:111) Total Epi:   221 Steps:    4915 Episode Steps:    17 Return:  17.0000 FPS: 32362.52\n",
      "21:29:56.564 [INFO] (CustomTrainer.py:111) Total Epi:   222 Steps:    4952 Episode Steps:    37 Return:  37.0000 FPS: 33399.32\n",
      "21:29:56.565 [INFO] (CustomTrainer.py:111) Total Epi:   223 Steps:    4969 Episode Steps:    17 Return:  17.0000 FPS: 32447.76\n",
      "21:29:56.567 [INFO] (CustomTrainer.py:111) Total Epi:   224 Steps:    4989 Episode Steps:    20 Return:  20.0000 FPS: 32495.07\n",
      "21:29:56.568 [INFO] (CustomTrainer.py:111) Total Epi:   225 Steps:    5010 Episode Steps:    21 Return:  21.0000 FPS: 25190.79\n",
      "21:29:56.570 [INFO] (CustomTrainer.py:111) Total Epi:   226 Steps:    5042 Episode Steps:    32 Return:  32.0000 FPS: 33898.38\n",
      "21:29:56.572 [INFO] (CustomTrainer.py:111) Total Epi:   227 Steps:    5057 Episode Steps:    15 Return:  15.0000 FPS: 31677.72\n",
      "21:29:56.573 [INFO] (CustomTrainer.py:111) Total Epi:   228 Steps:    5071 Episode Steps:    14 Return:  14.0000 FPS: 31864.60\n",
      "21:29:56.574 [INFO] (CustomTrainer.py:111) Total Epi:   229 Steps:    5084 Episode Steps:    13 Return:  13.0000 FPS: 31709.71\n",
      "21:29:56.575 [INFO] (CustomTrainer.py:111) Total Epi:   230 Steps:    5098 Episode Steps:    14 Return:  14.0000 FPS: 31097.36\n",
      "21:29:56.577 [INFO] (CustomTrainer.py:111) Total Epi:   231 Steps:    5114 Episode Steps:    16 Return:  16.0000 FPS: 32568.05\n",
      "21:29:56.578 [INFO] (CustomTrainer.py:111) Total Epi:   232 Steps:    5129 Episode Steps:    15 Return:  15.0000 FPS: 31938.07\n",
      "21:29:56.580 [INFO] (CustomTrainer.py:111) Total Epi:   233 Steps:    5162 Episode Steps:    33 Return:  33.0000 FPS: 32051.06\n",
      "21:29:56.583 [INFO] (CustomTrainer.py:111) Total Epi:   234 Steps:    5200 Episode Steps:    38 Return:  38.0000 FPS: 32394.24\n",
      "21:29:56.585 [INFO] (CustomTrainer.py:111) Total Epi:   235 Steps:    5251 Episode Steps:    51 Return:  51.0000 FPS: 33295.12\n",
      "21:29:56.587 [INFO] (CustomTrainer.py:111) Total Epi:   236 Steps:    5265 Episode Steps:    14 Return:  14.0000 FPS: 30598.48\n",
      "21:29:56.589 [INFO] (CustomTrainer.py:111) Total Epi:   237 Steps:    5290 Episode Steps:    25 Return:  25.0000 FPS: 26079.21\n",
      "21:29:56.591 [INFO] (CustomTrainer.py:111) Total Epi:   238 Steps:    5315 Episode Steps:    25 Return:  25.0000 FPS: 27189.93\n",
      "21:29:56.594 [INFO] (CustomTrainer.py:111) Total Epi:   239 Steps:    5340 Episode Steps:    25 Return:  25.0000 FPS: 24601.26\n",
      "21:29:56.596 [INFO] (CustomTrainer.py:111) Total Epi:   240 Steps:    5362 Episode Steps:    22 Return:  22.0000 FPS: 26781.98\n",
      "21:29:56.598 [INFO] (CustomTrainer.py:111) Total Epi:   241 Steps:    5374 Episode Steps:    12 Return:  12.0000 FPS: 27082.60\n",
      "21:29:56.600 [INFO] (CustomTrainer.py:111) Total Epi:   242 Steps:    5403 Episode Steps:    29 Return:  29.0000 FPS: 29103.08\n",
      "21:29:56.602 [INFO] (CustomTrainer.py:111) Total Epi:   243 Steps:    5431 Episode Steps:    28 Return:  28.0000 FPS: 29714.31\n",
      "21:29:56.603 [INFO] (CustomTrainer.py:111) Total Epi:   244 Steps:    5448 Episode Steps:    17 Return:  17.0000 FPS: 27811.00\n",
      "21:29:56.605 [INFO] (CustomTrainer.py:111) Total Epi:   245 Steps:    5459 Episode Steps:    11 Return:  11.0000 FPS: 26396.05\n",
      "21:29:56.607 [INFO] (CustomTrainer.py:111) Total Epi:   246 Steps:    5480 Episode Steps:    21 Return:  21.0000 FPS: 28654.94\n",
      "21:29:56.608 [INFO] (CustomTrainer.py:111) Total Epi:   247 Steps:    5497 Episode Steps:    17 Return:  17.0000 FPS: 29638.98\n",
      "21:29:56.611 [INFO] (CustomTrainer.py:111) Total Epi:   248 Steps:    5549 Episode Steps:    52 Return:  52.0000 FPS: 33352.45\n",
      "21:29:56.613 [INFO] (CustomTrainer.py:111) Total Epi:   249 Steps:    5578 Episode Steps:    29 Return:  29.0000 FPS: 32815.16\n",
      "21:29:56.615 [INFO] (CustomTrainer.py:111) Total Epi:   250 Steps:    5607 Episode Steps:    29 Return:  29.0000 FPS: 31998.31\n",
      "21:29:56.616 [INFO] (CustomTrainer.py:111) Total Epi:   251 Steps:    5620 Episode Steps:    13 Return:  13.0000 FPS: 30854.75\n",
      "21:29:56.618 [INFO] (CustomTrainer.py:111) Total Epi:   252 Steps:    5641 Episode Steps:    21 Return:  21.0000 FPS: 31498.99\n",
      "21:29:56.620 [INFO] (CustomTrainer.py:111) Total Epi:   253 Steps:    5664 Episode Steps:    23 Return:  23.0000 FPS: 20445.57\n",
      "21:29:56.622 [INFO] (CustomTrainer.py:111) Total Epi:   254 Steps:    5683 Episode Steps:    19 Return:  19.0000 FPS: 32826.08\n",
      "21:29:56.623 [INFO] (CustomTrainer.py:111) Total Epi:   255 Steps:    5693 Episode Steps:    10 Return:  10.0000 FPS: 21415.16\n",
      "21:29:56.625 [INFO] (CustomTrainer.py:111) Total Epi:   256 Steps:    5712 Episode Steps:    19 Return:  19.0000 FPS: 23691.72\n",
      "21:29:56.628 [INFO] (CustomTrainer.py:111) Total Epi:   257 Steps:    5735 Episode Steps:    23 Return:  23.0000 FPS: 14118.08\n",
      "21:29:56.631 [INFO] (CustomTrainer.py:111) Total Epi:   258 Steps:    5748 Episode Steps:    13 Return:  13.0000 FPS: 16941.66\n",
      "21:29:56.634 [INFO] (CustomTrainer.py:111) Total Epi:   259 Steps:    5770 Episode Steps:    22 Return:  22.0000 FPS: 19499.45\n",
      "21:29:56.636 [INFO] (CustomTrainer.py:111) Total Epi:   260 Steps:    5781 Episode Steps:    11 Return:  11.0000 FPS: 16441.27\n",
      "21:29:56.641 [INFO] (CustomTrainer.py:111) Total Epi:   261 Steps:    5813 Episode Steps:    32 Return:  32.0000 FPS: 17508.48\n",
      "21:29:56.645 [INFO] (CustomTrainer.py:111) Total Epi:   262 Steps:    5856 Episode Steps:    43 Return:  43.0000 FPS: 19133.87\n",
      "21:29:56.648 [INFO] (CustomTrainer.py:111) Total Epi:   263 Steps:    5874 Episode Steps:    18 Return:  18.0000 FPS: 24270.24\n",
      "21:29:56.649 [INFO] (CustomTrainer.py:111) Total Epi:   264 Steps:    5895 Episode Steps:    21 Return:  21.0000 FPS: 40015.40\n",
      "21:29:56.650 [INFO] (CustomTrainer.py:111) Total Epi:   265 Steps:    5907 Episode Steps:    12 Return:  12.0000 FPS: 39966.83\n",
      "21:29:56.651 [INFO] (CustomTrainer.py:111) Total Epi:   266 Steps:    5920 Episode Steps:    13 Return:  13.0000 FPS: 35767.45\n",
      "21:29:56.653 [INFO] (CustomTrainer.py:111) Total Epi:   267 Steps:    5948 Episode Steps:    28 Return:  28.0000 FPS: 41864.21\n",
      "21:29:56.654 [INFO] (CustomTrainer.py:111) Total Epi:   268 Steps:    5964 Episode Steps:    16 Return:  16.0000 FPS: 38400.71\n",
      "21:29:56.656 [INFO] (CustomTrainer.py:111) Total Epi:   269 Steps:    5993 Episode Steps:    29 Return:  29.0000 FPS: 30969.74\n",
      "21:29:56.660 [INFO] (CustomTrainer.py:146) Evaluation Total Steps:    6000 Average Reward  17.4000 over  5 episodes\n"
     ],
     "output_type": "stream"
    }
   ],
   "source": [
    "replaytrainer()\n",
    "\n"
   ],
   "metadata": {
    "collapsed": false,
    "pycharm": {
     "name": "#%%\n",
     "is_executing": false
    }
   }
  },
  {
   "cell_type": "code",
   "execution_count": null,
   "outputs": [],
   "source": [
    "\n"
   ],
   "metadata": {
    "collapsed": false,
    "pycharm": {
     "name": "#%%\n"
    }
   }
  }
 ],
 "metadata": {
  "kernelspec": {
   "name": "pycharm-a5f23e6",
   "language": "python",
   "display_name": "PyCharm (seminar)"
  },
  "pycharm": {
   "stem_cell": {
    "cell_type": "raw",
    "source": [],
    "metadata": {
     "collapsed": false
    }
   }
  }
 },
 "nbformat": 4,
 "nbformat_minor": 1
}