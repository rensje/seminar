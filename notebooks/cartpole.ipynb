{
 "cells": [
  {
   "cell_type": "code",
   "execution_count": 1,
   "metadata": {
    "pycharm": {
     "is_executing": false,
     "name": "#%%\n"
    }
   },
   "outputs": [
    {
     "name": "stderr",
     "text": [
      "No traceback available to show.\n",
      "22:27:48.061 [INFO] (CustomTrainer.py:104) Total Epi:     1 Steps:      20 Episode Steps:    20 Return:  20.0000 FPS: 39482.85\n",
      "22:27:48.063 [INFO] (CustomTrainer.py:104) Total Epi:     2 Steps:      34 Episode Steps:    14 Return:  14.0000 FPS: 47830.54\n",
      "22:27:48.064 [INFO] (CustomTrainer.py:104) Total Epi:     3 Steps:      52 Episode Steps:    18 Return:  18.0000 FPS: 48568.71\n",
      "22:27:48.065 [INFO] (CustomTrainer.py:104) Total Epi:     4 Steps:      65 Episode Steps:    13 Return:  13.0000 FPS: 44701.34\n",
      "22:27:48.067 [INFO] (CustomTrainer.py:104) Total Epi:     5 Steps:      85 Episode Steps:    20 Return:  20.0000 FPS: 24766.64\n",
      "22:27:48.070 [INFO] (CustomTrainer.py:104) Total Epi:     6 Steps:     124 Episode Steps:    39 Return:  39.0000 FPS: 33784.46\n",
      "22:27:48.071 [INFO] (CustomTrainer.py:104) Total Epi:     7 Steps:     134 Episode Steps:    10 Return:  10.0000 FPS: 32619.08\n",
      "22:27:48.073 [INFO] (CustomTrainer.py:104) Total Epi:     8 Steps:     150 Episode Steps:    16 Return:  16.0000 FPS: 35959.99\n",
      "22:27:48.074 [INFO] (CustomTrainer.py:104) Total Epi:     9 Steps:     167 Episode Steps:    17 Return:  17.0000 FPS: 36020.84\n",
      "22:27:48.076 [INFO] (CustomTrainer.py:104) Total Epi:    10 Steps:     183 Episode Steps:    16 Return:  16.0000 FPS: 31498.61\n",
      "22:27:48.077 [INFO] (CustomTrainer.py:104) Total Epi:    11 Steps:     198 Episode Steps:    15 Return:  15.0000 FPS: 35106.69\n",
      "22:27:48.079 [INFO] (CustomTrainer.py:104) Total Epi:    12 Steps:     218 Episode Steps:    20 Return:  20.0000 FPS: 32993.06\n",
      "22:27:48.081 [INFO] (CustomTrainer.py:104) Total Epi:    13 Steps:     228 Episode Steps:    10 Return:  10.0000 FPS: 28623.85\n",
      "22:27:48.082 [INFO] (CustomTrainer.py:104) Total Epi:    14 Steps:     242 Episode Steps:    14 Return:  14.0000 FPS: 31560.04\n",
      "22:27:48.085 [INFO] (CustomTrainer.py:104) Total Epi:    15 Steps:     304 Episode Steps:    62 Return:  62.0000 FPS: 35660.55\n",
      "22:27:48.088 [INFO] (CustomTrainer.py:104) Total Epi:    16 Steps:     353 Episode Steps:    49 Return:  49.0000 FPS: 36139.24\n",
      "22:27:48.090 [INFO] (CustomTrainer.py:104) Total Epi:    17 Steps:     366 Episode Steps:    13 Return:  13.0000 FPS: 30334.92\n",
      "22:27:48.092 [INFO] (CustomTrainer.py:104) Total Epi:    18 Steps:     383 Episode Steps:    17 Return:  17.0000 FPS: 32365.66\n",
      "22:27:48.093 [INFO] (CustomTrainer.py:104) Total Epi:    19 Steps:     396 Episode Steps:    13 Return:  13.0000 FPS: 31205.82\n",
      "22:27:48.095 [INFO] (CustomTrainer.py:104) Total Epi:    20 Steps:     419 Episode Steps:    23 Return:  23.0000 FPS: 33724.93\n",
      "22:27:48.097 [INFO] (CustomTrainer.py:104) Total Epi:    21 Steps:     436 Episode Steps:    17 Return:  17.0000 FPS: 34855.42\n",
      "22:27:48.098 [INFO] (CustomTrainer.py:104) Total Epi:    22 Steps:     449 Episode Steps:    13 Return:  13.0000 FPS: 34931.31\n",
      "22:27:48.099 [INFO] (CustomTrainer.py:104) Total Epi:    23 Steps:     462 Episode Steps:    13 Return:  13.0000 FPS: 33799.59\n",
      "22:27:50.729 [INFO] (CustomTrainer.py:104) Total Epi:    24 Steps:     501 Episode Steps:    39 Return:  39.0000 FPS: 14.84\n",
      "22:27:50.800 [INFO] (CustomTrainer.py:104) Total Epi:    25 Steps:     512 Episode Steps:    11 Return:  11.0000 FPS: 157.05\n",
      "22:27:50.915 [INFO] (CustomTrainer.py:104) Total Epi:    26 Steps:     530 Episode Steps:    18 Return:  18.0000 FPS: 158.68\n",
      "22:27:51.313 [INFO] (CustomTrainer.py:104) Total Epi:    27 Steps:     559 Episode Steps:    29 Return:  29.0000 FPS: 73.00\n",
      "22:27:51.428 [INFO] (CustomTrainer.py:104) Total Epi:    28 Steps:     577 Episode Steps:    18 Return:  18.0000 FPS: 158.00\n",
      "22:27:51.532 [INFO] (CustomTrainer.py:104) Total Epi:    29 Steps:     592 Episode Steps:    15 Return:  15.0000 FPS: 145.86\n",
      "22:27:51.928 [INFO] (CustomTrainer.py:104) Total Epi:    30 Steps:     620 Episode Steps:    28 Return:  28.0000 FPS: 71.04\n",
      "22:27:52.131 [INFO] (CustomTrainer.py:104) Total Epi:    31 Steps:     649 Episode Steps:    29 Return:  29.0000 FPS: 143.72\n",
      "22:27:52.489 [INFO] (CustomTrainer.py:104) Total Epi:    32 Steps:     670 Episode Steps:    21 Return:  21.0000 FPS: 58.81\n",
      "22:27:52.579 [INFO] (CustomTrainer.py:104) Total Epi:    33 Steps:     684 Episode Steps:    14 Return:  14.0000 FPS: 157.67\n",
      "22:27:52.690 [INFO] (CustomTrainer.py:104) Total Epi:    34 Steps:     701 Episode Steps:    17 Return:  17.0000 FPS: 155.29\n",
      "22:27:52.786 [INFO] (CustomTrainer.py:104) Total Epi:    35 Steps:     715 Episode Steps:    14 Return:  14.0000 FPS: 147.99\n",
      "22:27:53.139 [INFO] (CustomTrainer.py:104) Total Epi:    36 Steps:     732 Episode Steps:    17 Return:  17.0000 FPS: 48.27\n",
      "22:27:53.260 [INFO] (CustomTrainer.py:104) Total Epi:    37 Steps:     750 Episode Steps:    18 Return:  18.0000 FPS: 151.49\n",
      "22:27:53.354 [INFO] (CustomTrainer.py:104) Total Epi:    38 Steps:     764 Episode Steps:    14 Return:  14.0000 FPS: 149.91\n",
      "22:27:53.439 [INFO] (CustomTrainer.py:104) Total Epi:    39 Steps:     777 Episode Steps:    13 Return:  13.0000 FPS: 154.59\n",
      "22:27:53.509 [INFO] (CustomTrainer.py:104) Total Epi:    40 Steps:     787 Episode Steps:    10 Return:  10.0000 FPS: 145.83\n",
      "22:27:53.619 [INFO] (CustomTrainer.py:104) Total Epi:    41 Steps:     804 Episode Steps:    17 Return:  17.0000 FPS: 157.58\n",
      "22:27:53.880 [INFO] (CustomTrainer.py:104) Total Epi:    42 Steps:     826 Episode Steps:    22 Return:  22.0000 FPS: 84.68\n",
      "22:27:53.952 [INFO] (CustomTrainer.py:104) Total Epi:    43 Steps:     837 Episode Steps:    11 Return:  11.0000 FPS: 154.80\n",
      "22:27:54.118 [INFO] (CustomTrainer.py:104) Total Epi:    44 Steps:     863 Episode Steps:    26 Return:  26.0000 FPS: 157.53\n",
      "22:27:54.369 [INFO] (CustomTrainer.py:104) Total Epi:    45 Steps:     877 Episode Steps:    14 Return:  14.0000 FPS: 56.07\n",
      "22:27:54.492 [INFO] (CustomTrainer.py:104) Total Epi:    46 Steps:     895 Episode Steps:    18 Return:  18.0000 FPS: 153.46\n",
      "22:27:54.644 [INFO] (CustomTrainer.py:104) Total Epi:    47 Steps:     919 Episode Steps:    24 Return:  24.0000 FPS: 159.13\n",
      "22:27:55.014 [INFO] (CustomTrainer.py:104) Total Epi:    48 Steps:     943 Episode Steps:    24 Return:  24.0000 FPS: 65.09\n",
      "22:27:55.145 [INFO] (CustomTrainer.py:104) Total Epi:    49 Steps:     962 Episode Steps:    19 Return:  19.0000 FPS: 145.41\n",
      "22:27:55.233 [INFO] (CustomTrainer.py:104) Total Epi:    50 Steps:     974 Episode Steps:    12 Return:  12.0000 FPS: 139.91\n",
      "22:27:55.308 [INFO] (CustomTrainer.py:104) Total Epi:    51 Steps:     985 Episode Steps:    11 Return:  11.0000 FPS: 148.16\n",
      "22:27:55.620 [INFO] (CustomTrainer.py:104) Total Epi:    52 Steps:    1000 Episode Steps:    15 Return:  15.0000 FPS: 48.33\n",
      "22:27:55.752 [INFO] (CustomTrainer.py:104) Total Epi:    53 Steps:    1021 Episode Steps:    21 Return:  21.0000 FPS: 160.60\n",
      "22:27:55.849 [INFO] (CustomTrainer.py:104) Total Epi:    54 Steps:    1036 Episode Steps:    15 Return:  15.0000 FPS: 156.12\n",
      "22:27:56.156 [INFO] (CustomTrainer.py:104) Total Epi:    55 Steps:    1052 Episode Steps:    16 Return:  16.0000 FPS: 52.22\n",
      "22:27:56.280 [INFO] (CustomTrainer.py:104) Total Epi:    56 Steps:    1070 Episode Steps:    18 Return:  18.0000 FPS: 155.20\n",
      "22:27:56.745 [INFO] (CustomTrainer.py:104) Total Epi:    57 Steps:    1110 Episode Steps:    40 Return:  40.0000 FPS: 86.34\n",
      "22:27:56.820 [INFO] (CustomTrainer.py:104) Total Epi:    58 Steps:    1121 Episode Steps:    11 Return:  11.0000 FPS: 149.55\n",
      "22:27:56.899 [INFO] (CustomTrainer.py:104) Total Epi:    59 Steps:    1133 Episode Steps:    12 Return:  12.0000 FPS: 154.41\n",
      "22:27:57.322 [INFO] (CustomTrainer.py:104) Total Epi:    60 Steps:    1166 Episode Steps:    33 Return:  33.0000 FPS: 78.10\n",
      "22:27:57.403 [INFO] (CustomTrainer.py:104) Total Epi:    61 Steps:    1177 Episode Steps:    11 Return:  11.0000 FPS: 139.03\n",
      "22:27:57.878 [INFO] (CustomTrainer.py:104) Total Epi:    62 Steps:    1218 Episode Steps:    41 Return:  41.0000 FPS: 86.75\n",
      "22:27:58.000 [INFO] (CustomTrainer.py:104) Total Epi:    63 Steps:    1237 Episode Steps:    19 Return:  19.0000 FPS: 157.08\n",
      "22:27:58.100 [INFO] (CustomTrainer.py:104) Total Epi:    64 Steps:    1252 Episode Steps:    15 Return:  15.0000 FPS: 152.59\n",
      "22:27:58.262 [INFO] (CustomTrainer.py:104) Total Epi:    65 Steps:    1266 Episode Steps:    14 Return:  14.0000 FPS: 86.99\n",
      "22:27:58.368 [INFO] (CustomTrainer.py:104) Total Epi:    66 Steps:    1279 Episode Steps:    13 Return:  13.0000 FPS: 133.25\n",
      "22:27:58.470 [INFO] (CustomTrainer.py:104) Total Epi:    67 Steps:    1295 Episode Steps:    16 Return:  16.0000 FPS: 157.99\n",
      "22:27:58.885 [INFO] (CustomTrainer.py:104) Total Epi:    68 Steps:    1325 Episode Steps:    30 Return:  30.0000 FPS: 72.56\n",
      "22:27:59.012 [INFO] (CustomTrainer.py:104) Total Epi:    69 Steps:    1343 Episode Steps:    18 Return:  18.0000 FPS: 142.95\n",
      "22:27:59.235 [INFO] (CustomTrainer.py:104) Total Epi:    70 Steps:    1371 Episode Steps:    28 Return:  28.0000 FPS: 126.26\n",
      "22:27:59.831 [INFO] (CustomTrainer.py:104) Total Epi:    71 Steps:    1430 Episode Steps:    59 Return:  59.0000 FPS: 99.23\n",
      "22:28:00.065 [INFO] (CustomTrainer.py:104) Total Epi:    72 Steps:    1467 Episode Steps:    37 Return:  37.0000 FPS: 159.32\n",
      "22:28:01.005 [INFO] (CustomTrainer.py:104) Total Epi:    73 Steps:    1583 Episode Steps:   116 Return:  116.0000 FPS: 123.60\n",
      "22:28:01.168 [INFO] (CustomTrainer.py:104) Total Epi:    74 Steps:    1609 Episode Steps:    26 Return:  26.0000 FPS: 159.74\n",
      "22:28:01.984 [INFO] (CustomTrainer.py:104) Total Epi:    75 Steps:    1703 Episode Steps:    94 Return:  94.0000 FPS: 115.42\n",
      "22:28:03.031 [INFO] (CustomTrainer.py:104) Total Epi:    76 Steps:    1829 Episode Steps:   126 Return:  126.0000 FPS: 120.55\n",
      "22:28:03.316 [INFO] (CustomTrainer.py:104) Total Epi:    77 Steps:    1874 Episode Steps:    45 Return:  45.0000 FPS: 158.78\n",
      "22:28:04.765 [INFO] (CustomTrainer.py:132) Evaluation Total Steps:    2000 Average Reward  200.0000 over  5 episodes\n",
      "22:28:05.425 [INFO] (CustomTrainer.py:104) Total Epi:    78 Steps:    2074 Episode Steps:   200 Return:  200.0000 FPS: 94.86\n",
      "22:28:06.845 [INFO] (CustomTrainer.py:104) Total Epi:    79 Steps:    2272 Episode Steps:   198 Return:  198.0000 FPS: 139.58\n",
      "22:28:08.054 [INFO] (CustomTrainer.py:104) Total Epi:    80 Steps:    2432 Episode Steps:   160 Return:  160.0000 FPS: 132.53\n",
      "22:28:09.209 [INFO] (CustomTrainer.py:104) Total Epi:    81 Steps:    2590 Episode Steps:   158 Return:  158.0000 FPS: 136.91\n",
      "22:28:10.566 [INFO] (CustomTrainer.py:104) Total Epi:    82 Steps:    2783 Episode Steps:   193 Return:  193.0000 FPS: 142.34\n",
      "22:28:11.823 [INFO] (CustomTrainer.py:104) Total Epi:    83 Steps:    2956 Episode Steps:   173 Return:  173.0000 FPS: 137.70\n",
      "22:28:13.115 [INFO] (CustomTrainer.py:104) Total Epi:    84 Steps:    3132 Episode Steps:   176 Return:  176.0000 FPS: 136.32\n",
      "22:28:14.540 [INFO] (CustomTrainer.py:104) Total Epi:    85 Steps:    3332 Episode Steps:   200 Return:  200.0000 FPS: 140.47\n",
      "22:28:15.957 [INFO] (CustomTrainer.py:104) Total Epi:    86 Steps:    3532 Episode Steps:   200 Return:  200.0000 FPS: 141.29\n",
      "22:28:17.159 [INFO] (CustomTrainer.py:104) Total Epi:    87 Steps:    3697 Episode Steps:   165 Return:  165.0000 FPS: 137.42\n",
      "22:28:18.568 [INFO] (CustomTrainer.py:104) Total Epi:    88 Steps:    3897 Episode Steps:   200 Return:  200.0000 FPS: 142.02\n",
      "22:28:19.841 [INFO] (CustomTrainer.py:132) Evaluation Total Steps:    4000 Average Reward  182.6000 over  5 episodes\n",
      "22:28:20.655 [INFO] (CustomTrainer.py:104) Total Epi:    89 Steps:    4097 Episode Steps:   200 Return:  200.0000 FPS: 95.89\n",
      "22:28:22.090 [INFO] (CustomTrainer.py:104) Total Epi:    90 Steps:    4297 Episode Steps:   200 Return:  200.0000 FPS: 139.53\n",
      "22:28:23.537 [INFO] (CustomTrainer.py:104) Total Epi:    91 Steps:    4487 Episode Steps:   190 Return:  190.0000 FPS: 131.35\n",
      "22:28:24.650 [INFO] (CustomTrainer.py:104) Total Epi:    92 Steps:    4634 Episode Steps:   147 Return:  147.0000 FPS: 132.40\n",
      "22:28:25.898 [INFO] (CustomTrainer.py:104) Total Epi:    93 Steps:    4800 Episode Steps:   166 Return:  166.0000 FPS: 133.08\n",
      "22:28:27.333 [INFO] (CustomTrainer.py:104) Total Epi:    94 Steps:    5000 Episode Steps:   200 Return:  200.0000 FPS: 139.56\n",
      "22:28:28.768 [INFO] (CustomTrainer.py:104) Total Epi:    95 Steps:    5200 Episode Steps:   200 Return:  200.0000 FPS: 139.45\n",
      "22:28:30.203 [INFO] (CustomTrainer.py:104) Total Epi:    96 Steps:    5400 Episode Steps:   200 Return:  200.0000 FPS: 139.46\n",
      "22:28:31.630 [INFO] (CustomTrainer.py:104) Total Epi:    97 Steps:    5600 Episode Steps:   200 Return:  200.0000 FPS: 140.36\n",
      "22:28:32.906 [INFO] (CustomTrainer.py:104) Total Epi:    98 Steps:    5775 Episode Steps:   175 Return:  175.0000 FPS: 137.19\n",
      "22:28:34.197 [INFO] (CustomTrainer.py:104) Total Epi:    99 Steps:    5948 Episode Steps:   173 Return:  173.0000 FPS: 134.12\n",
      "22:28:35.180 [INFO] (CustomTrainer.py:132) Evaluation Total Steps:    6000 Average Reward  190.6000 over  5 episodes\n"
     ],
     "output_type": "stream"
    },
    {
     "name": "stdout",
     "text": [
      "PhysicalDevice(name='/physical_device:GPU:0', device_type='GPU')\n"
     ],
     "output_type": "stream"
    }
   ],
   "source": [
    "%tb\n",
    "import gym\n",
    "from tf2rl.algos.sac_discrete import SACDiscrete\n",
    "from CustomTrainer import Trainer\n",
    "\n",
    "\n",
    "parser = Trainer.get_argument()\n",
    "parser.add_argument(\"-f\")\n",
    "parser = SACDiscrete.get_argument(parser)\n",
    "parser.set_defaults(test_interval=2000)\n",
    "parser.set_defaults(max_steps=6000)\n",
    "parser.set_defaults(gpu=-1)\n",
    "parser.set_defaults(n_warmup=500)\n",
    "parser.set_defaults(batch_size=32)\n",
    "parser.set_defaults(memory_capacity=int(6000))\n",
    "args = parser.parse_args()\n",
    "\n",
    "env = gym.make(\"CartPole-v0\")\n",
    "test_env = gym.make(\"CartPole-v0\")\n",
    "policy = SACDiscrete(\n",
    "    state_shape=env.observation_space.shape,\n",
    "    action_dim=env.action_space.n,\n",
    "    discount=0.99,\n",
    "    gpu=args.gpu,\n",
    "    memory_capacity=args.memory_capacity,\n",
    "    batch_size=args.batch_size,\n",
    "    n_warmup=args.n_warmup)\n",
    "trainer = Trainer(policy, env, args, test_env=test_env)\n",
    "trainer()"
   ]
  },
  {
   "cell_type": "code",
   "execution_count": 6,
   "metadata": {
    "pycharm": {
     "name": "#%%\n",
     "is_executing": false
    }
   },
   "outputs": [],
   "source": [
    "import pickle\n",
    "import numpy as np"
   ]
  },
  {
   "cell_type": "code",
   "execution_count": 2,
   "outputs": [
    {
     "traceback": [
      "\u001b[0;31m---------------------------------------------------------------------------\u001b[0m",
      "\u001b[0;31mNameError\u001b[0m                                 Traceback (most recent call last)",
      "\u001b[0;32m<ipython-input-2-392faceaf54b>\u001b[0m in \u001b[0;36m<module>\u001b[0;34m\u001b[0m\n\u001b[0;32m----> 1\u001b[0;31m \u001b[0mpickle\u001b[0m\u001b[0;34m.\u001b[0m\u001b[0mdump\u001b[0m\u001b[0;34m(\u001b[0m\u001b[0mtrainer\u001b[0m\u001b[0;34m.\u001b[0m\u001b[0mreplay_buffer\u001b[0m\u001b[0;34m,\u001b[0m \u001b[0mopen\u001b[0m\u001b[0;34m(\u001b[0m\u001b[0;34m\"./CARTPOLE_SAC_6000_RB.pkl\"\u001b[0m\u001b[0;34m,\u001b[0m \u001b[0;34m\"wb\"\u001b[0m\u001b[0;34m)\u001b[0m\u001b[0;34m)\u001b[0m\u001b[0;34m\u001b[0m\u001b[0;34m\u001b[0m\u001b[0m\n\u001b[0m\u001b[1;32m      2\u001b[0m \u001b[0;34m\u001b[0m\u001b[0m\n\u001b[1;32m      3\u001b[0m \u001b[0;34m\u001b[0m\u001b[0m\n",
      "\u001b[0;31mNameError\u001b[0m: name 'trainer' is not defined"
     ],
     "ename": "NameError",
     "evalue": "name 'trainer' is not defined",
     "output_type": "error"
    }
   ],
   "source": [
    "pickle.dump(trainer.replay_buffer, open(\"./CARTPOLE_SAC_6000_RB.pkl\", \"wb\"))\n"
   ],
   "metadata": {
    "collapsed": false,
    "pycharm": {
     "name": "#%%\n",
     "is_executing": false
    }
   }
  },
  {
   "cell_type": "code",
   "execution_count": 7,
   "outputs": [],
   "source": [
    "replay_buffer = pickle.load(open(\"./CARTPOLE_SAC_6000_RB.pkl\", \"rb\"))"
   ],
   "metadata": {
    "collapsed": false,
    "pycharm": {
     "name": "#%%\n",
     "is_executing": false
    }
   }
  },
  {
   "cell_type": "code",
   "execution_count": 8,
   "outputs": [
    {
     "data": {
      "text/plain": "defaultdict(list,\n            {'obs': array([[ 0.03638951, -0.02160182,  0.01547802, -0.0296219 ],\n                    [ 0.03595747,  0.1732948 ,  0.01488558, -0.31738144],\n                    [ 0.03942337, -0.02203598,  0.00853795, -0.02004154],\n                    ...,\n                    [-0.05529382,  0.16934597, -0.01125058, -0.35236245],\n                    [-0.0519069 , -0.02561419, -0.01829783, -0.06324829],\n                    [-0.05241919, -0.22046909, -0.01956279,  0.22360586]],\n                   dtype=float32),\n             'act': array([[1.],\n                    [0.],\n                    [0.],\n                    ...,\n                    [0.],\n                    [0.],\n                    [1.]], dtype=float32),\n             'next_obs': array([[ 0.03595747,  0.1732948 ,  0.01488558, -0.31738144],\n                    [ 0.03942337, -0.02203598,  0.00853795, -0.02004154],\n                    [ 0.03898265, -0.21727933,  0.00813712,  0.27532294],\n                    ...,\n                    [-0.0519069 , -0.02561419, -0.01829783, -0.06324829],\n                    [-0.05241919, -0.22046909, -0.01956279,  0.22360586],\n                    [-0.05682857, -0.02507307, -0.01509067, -0.07518318]],\n                   dtype=float32),\n             'rew': array([[1.],\n                    [1.],\n                    [1.],\n                    ...,\n                    [1.],\n                    [1.],\n                    [1.]], dtype=float32),\n             'done': array([[0.],\n                    [0.],\n                    [0.],\n                    ...,\n                    [0.],\n                    [0.],\n                    [0.]], dtype=float32)})"
     },
     "metadata": {},
     "output_type": "execute_result",
     "execution_count": 8
    }
   ],
   "source": [
    "trb = replay_buffer.transform(replay_buffer.storage)\n",
    "trb"
   ],
   "metadata": {
    "collapsed": false,
    "pycharm": {
     "name": "#%%\n",
     "is_executing": false
    }
   }
  },
  {
   "cell_type": "code",
   "execution_count": 9,
   "outputs": [],
   "source": [
    "trb = np.concatenate((trb[\"obs\"], trb[\"act\"], trb[\"next_obs\"], trb[\"rew\"], trb[\"done\"]), axis=1)"
   ],
   "metadata": {
    "collapsed": false,
    "pycharm": {
     "name": "#%%\n",
     "is_executing": false
    }
   }
  },
  {
   "cell_type": "code",
   "execution_count": 10,
   "outputs": [
    {
     "data": {
      "text/plain": "(6000, 11)"
     },
     "metadata": {},
     "output_type": "execute_result",
     "execution_count": 10
    }
   ],
   "source": [
    "trb.shape"
   ],
   "metadata": {
    "collapsed": false,
    "pycharm": {
     "name": "#%%\n",
     "is_executing": false
    }
   }
  },
  {
   "cell_type": "code",
   "execution_count": 11,
   "outputs": [],
   "source": [
    "import tensorflow as tf\n",
    "\n",
    "train_dataset = tf.data.Dataset.from_tensor_slices(trb).shuffle(trb.shape[0]).batch(32)\n",
    "test_dataset = train_dataset"
   ],
   "metadata": {
    "collapsed": false,
    "pycharm": {
     "name": "#%%\n",
     "is_executing": false
    }
   }
  },
  {
   "cell_type": "code",
   "execution_count": 12,
   "outputs": [],
   "source": [
    "from tensorflow.keras.layers import Dense, InputLayer\n",
    "latent_dim = 8\n",
    "\n",
    "encoder_layers = [64, 64, 128, 256]\n",
    "decoder_layers = encoder_layers[::-1]"
   ],
   "metadata": {
    "collapsed": false,
    "pycharm": {
     "name": "#%%\n",
     "is_executing": false
    }
   }
  },
  {
   "cell_type": "code",
   "execution_count": 13,
   "outputs": [],
   "source": [
    "encoder = tf.keras.Sequential([\n",
    "    InputLayer(input_shape=trb.shape[1:]),\n",
    "    *[Dense(x) for x in encoder_layers],\n",
    "    Dense(2*latent_dim),\n",
    "])"
   ],
   "metadata": {
    "collapsed": false,
    "pycharm": {
     "name": "#%%\n",
     "is_executing": false
    }
   }
  },
  {
   "cell_type": "code",
   "execution_count": 14,
   "outputs": [],
   "source": [
    "decoder = tf.keras.Sequential([\n",
    "    InputLayer(input_shape=(latent_dim,)),\n",
    "    *[Dense(x) for x in decoder_layers],\n",
    "    Dense(trb.shape[-1])\n",
    "])"
   ],
   "metadata": {
    "collapsed": false,
    "pycharm": {
     "name": "#%%\n",
     "is_executing": false
    }
   }
  },
  {
   "cell_type": "code",
   "execution_count": 15,
   "outputs": [],
   "source": [
    "from VariationalAutoEncoder import VAE\n",
    "\n",
    "vae = VAE(8, lambda *args: encoder, lambda *args: decoder, kl_importance=0)"
   ],
   "metadata": {
    "collapsed": false,
    "pycharm": {
     "name": "#%%\n",
     "is_executing": false
    }
   }
  },
  {
   "cell_type": "code",
   "execution_count": 16,
   "outputs": [
    {
     "name": "stdout",
     "text": [
      "Epoch: 100, Test set ELBO: -0.0063180080614984035, time elapse for current epoch 0.35124993324279785\n"
     ],
     "output_type": "stream"
    }
   ],
   "source": [
    "import time\n",
    "\n",
    "from IPython import display\n",
    "epochs = 100\n",
    "\n",
    "for epoch in range(1, epochs + 1):\n",
    "  start_time = time.time()\n",
    "  for train_x in train_dataset:\n",
    "    vae.compute_apply_gradients(train_x)\n",
    "  end_time = time.time()\n",
    "\n",
    "  if epoch % 1 == 0:\n",
    "    loss = tf.keras.metrics.Mean()\n",
    "    for test_x in test_dataset:\n",
    "      loss(vae.compute_loss(test_x))\n",
    "    elbo = -loss.result()\n",
    "    display.clear_output(wait=False)\n",
    "    print('Epoch: {}, Test set ELBO: {}, '\n",
    "          'time elapse for current epoch {}'.format(epoch,\n",
    "                                                    elbo,\n",
    "                                                    end_time - start_time))"
   ],
   "metadata": {
    "collapsed": false,
    "pycharm": {
     "name": "#%%\n",
     "is_executing": false
    }
   }
  },
  {
   "cell_type": "code",
   "execution_count": null,
   "outputs": [],
   "source": [
    "\n"
   ],
   "metadata": {
    "collapsed": false,
    "pycharm": {
     "name": "#%%\n"
    }
   }
  }
 ],
 "metadata": {
  "kernelspec": {
   "name": "pycharm-a5f23e6",
   "language": "python",
   "display_name": "PyCharm (seminar)"
  },
  "pycharm": {
   "stem_cell": {
    "cell_type": "raw",
    "source": [],
    "metadata": {
     "collapsed": false
    }
   }
  }
 },
 "nbformat": 4,
 "nbformat_minor": 1
}